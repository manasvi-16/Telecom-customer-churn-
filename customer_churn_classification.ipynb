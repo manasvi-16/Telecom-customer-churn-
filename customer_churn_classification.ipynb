{
  "metadata": {
    "kernelspec": {
      "language": "python",
      "display_name": "Python 3",
      "name": "python3"
    },
    "language_info": {
      "pygments_lexer": "ipython3",
      "nbconvert_exporter": "python",
      "version": "3.6.4",
      "file_extension": ".py",
      "codemirror_mode": {
        "name": "ipython",
        "version": 3
      },
      "name": "python",
      "mimetype": "text/x-python"
    },
    "colab": {
      "provenance": []
    }
  },
  "nbformat_minor": 0,
  "nbformat": 4,
  "cells": [
    {
      "cell_type": "code",
      "source": [
        "import pandas as pd\n",
        "import numpy as np"
      ],
      "metadata": {
        "id": "ZoiMlEdrLvPp",
        "execution": {
          "iopub.status.busy": "2022-08-11T02:51:04.782456Z",
          "iopub.execute_input": "2022-08-11T02:51:04.782956Z",
          "iopub.status.idle": "2022-08-11T02:51:04.789360Z",
          "shell.execute_reply.started": "2022-08-11T02:51:04.782922Z",
          "shell.execute_reply": "2022-08-11T02:51:04.787828Z"
        },
        "trusted": true
      },
      "execution_count": null,
      "outputs": []
    },
    {
      "cell_type": "code",
      "source": [
        "df = pd.read_csv(\"/content/telecom_customer_churn.csv\")"
      ],
      "metadata": {
        "id": "owxQk1VGL21q",
        "execution": {
          "iopub.status.busy": "2022-08-11T02:51:04.791363Z",
          "iopub.execute_input": "2022-08-11T02:51:04.792014Z",
          "iopub.status.idle": "2022-08-11T02:51:04.890775Z",
          "shell.execute_reply.started": "2022-08-11T02:51:04.791977Z",
          "shell.execute_reply": "2022-08-11T02:51:04.889638Z"
        },
        "trusted": true
      },
      "execution_count": null,
      "outputs": []
    },
    {
      "cell_type": "code",
      "source": [
        "df.head()"
      ],
      "metadata": {
        "id": "cut4j-XHL9ZB",
        "outputId": "02066d0d-7a10-4f1d-ef4f-a33c7a7bd3f8",
        "execution": {
          "iopub.status.busy": "2022-08-11T02:51:04.892680Z",
          "iopub.execute_input": "2022-08-11T02:51:04.893316Z",
          "iopub.status.idle": "2022-08-11T02:51:04.937700Z",
          "shell.execute_reply.started": "2022-08-11T02:51:04.893280Z",
          "shell.execute_reply": "2022-08-11T02:51:04.936655Z"
        },
        "trusted": true,
        "colab": {
          "base_uri": "https://localhost:8080/",
          "height": 456
        }
      },
      "execution_count": null,
      "outputs": [
        {
          "output_type": "execute_result",
          "data": {
            "text/plain": [
              "  Customer ID  Gender  Age Married  Number of Dependents          City  \\\n",
              "0  0002-ORFBO  Female   37     Yes                     0  Frazier Park   \n",
              "1  0003-MKNFE    Male   46      No                     0      Glendale   \n",
              "2  0004-TLHLJ    Male   50      No                     0    Costa Mesa   \n",
              "3  0011-IGKFF    Male   78     Yes                     0      Martinez   \n",
              "4  0013-EXCHZ  Female   75     Yes                     0     Camarillo   \n",
              "\n",
              "   Zip Code   Latitude   Longitude  Number of Referrals  ...   Payment Method  \\\n",
              "0     93225  34.827662 -118.999073                    2  ...      Credit Card   \n",
              "1     91206  34.162515 -118.203869                    0  ...      Credit Card   \n",
              "2     92627  33.645672 -117.922613                    0  ...  Bank Withdrawal   \n",
              "3     94553  38.014457 -122.115432                    1  ...  Bank Withdrawal   \n",
              "4     93010  34.227846 -119.079903                    3  ...      Credit Card   \n",
              "\n",
              "  Monthly Charge Total Charges  Total Refunds Total Extra Data Charges  \\\n",
              "0           65.6        593.30           0.00                        0   \n",
              "1           -4.0        542.40          38.33                       10   \n",
              "2           73.9        280.85           0.00                        0   \n",
              "3           98.0       1237.85           0.00                        0   \n",
              "4           83.9        267.40           0.00                        0   \n",
              "\n",
              "  Total Long Distance Charges Total Revenue  Customer Status   Churn Category  \\\n",
              "0                      381.51        974.81           Stayed              NaN   \n",
              "1                       96.21        610.28           Stayed              NaN   \n",
              "2                      134.60        415.45          Churned       Competitor   \n",
              "3                      361.66       1599.51          Churned  Dissatisfaction   \n",
              "4                       22.14        289.54          Churned  Dissatisfaction   \n",
              "\n",
              "                    Churn Reason  \n",
              "0                            NaN  \n",
              "1                            NaN  \n",
              "2  Competitor had better devices  \n",
              "3        Product dissatisfaction  \n",
              "4            Network reliability  \n",
              "\n",
              "[5 rows x 38 columns]"
            ],
            "text/html": [
              "\n",
              "  <div id=\"df-254a0866-d1a0-4dd8-abbb-e961c8287b46\">\n",
              "    <div class=\"colab-df-container\">\n",
              "      <div>\n",
              "<style scoped>\n",
              "    .dataframe tbody tr th:only-of-type {\n",
              "        vertical-align: middle;\n",
              "    }\n",
              "\n",
              "    .dataframe tbody tr th {\n",
              "        vertical-align: top;\n",
              "    }\n",
              "\n",
              "    .dataframe thead th {\n",
              "        text-align: right;\n",
              "    }\n",
              "</style>\n",
              "<table border=\"1\" class=\"dataframe\">\n",
              "  <thead>\n",
              "    <tr style=\"text-align: right;\">\n",
              "      <th></th>\n",
              "      <th>Customer ID</th>\n",
              "      <th>Gender</th>\n",
              "      <th>Age</th>\n",
              "      <th>Married</th>\n",
              "      <th>Number of Dependents</th>\n",
              "      <th>City</th>\n",
              "      <th>Zip Code</th>\n",
              "      <th>Latitude</th>\n",
              "      <th>Longitude</th>\n",
              "      <th>Number of Referrals</th>\n",
              "      <th>...</th>\n",
              "      <th>Payment Method</th>\n",
              "      <th>Monthly Charge</th>\n",
              "      <th>Total Charges</th>\n",
              "      <th>Total Refunds</th>\n",
              "      <th>Total Extra Data Charges</th>\n",
              "      <th>Total Long Distance Charges</th>\n",
              "      <th>Total Revenue</th>\n",
              "      <th>Customer Status</th>\n",
              "      <th>Churn Category</th>\n",
              "      <th>Churn Reason</th>\n",
              "    </tr>\n",
              "  </thead>\n",
              "  <tbody>\n",
              "    <tr>\n",
              "      <th>0</th>\n",
              "      <td>0002-ORFBO</td>\n",
              "      <td>Female</td>\n",
              "      <td>37</td>\n",
              "      <td>Yes</td>\n",
              "      <td>0</td>\n",
              "      <td>Frazier Park</td>\n",
              "      <td>93225</td>\n",
              "      <td>34.827662</td>\n",
              "      <td>-118.999073</td>\n",
              "      <td>2</td>\n",
              "      <td>...</td>\n",
              "      <td>Credit Card</td>\n",
              "      <td>65.6</td>\n",
              "      <td>593.30</td>\n",
              "      <td>0.00</td>\n",
              "      <td>0</td>\n",
              "      <td>381.51</td>\n",
              "      <td>974.81</td>\n",
              "      <td>Stayed</td>\n",
              "      <td>NaN</td>\n",
              "      <td>NaN</td>\n",
              "    </tr>\n",
              "    <tr>\n",
              "      <th>1</th>\n",
              "      <td>0003-MKNFE</td>\n",
              "      <td>Male</td>\n",
              "      <td>46</td>\n",
              "      <td>No</td>\n",
              "      <td>0</td>\n",
              "      <td>Glendale</td>\n",
              "      <td>91206</td>\n",
              "      <td>34.162515</td>\n",
              "      <td>-118.203869</td>\n",
              "      <td>0</td>\n",
              "      <td>...</td>\n",
              "      <td>Credit Card</td>\n",
              "      <td>-4.0</td>\n",
              "      <td>542.40</td>\n",
              "      <td>38.33</td>\n",
              "      <td>10</td>\n",
              "      <td>96.21</td>\n",
              "      <td>610.28</td>\n",
              "      <td>Stayed</td>\n",
              "      <td>NaN</td>\n",
              "      <td>NaN</td>\n",
              "    </tr>\n",
              "    <tr>\n",
              "      <th>2</th>\n",
              "      <td>0004-TLHLJ</td>\n",
              "      <td>Male</td>\n",
              "      <td>50</td>\n",
              "      <td>No</td>\n",
              "      <td>0</td>\n",
              "      <td>Costa Mesa</td>\n",
              "      <td>92627</td>\n",
              "      <td>33.645672</td>\n",
              "      <td>-117.922613</td>\n",
              "      <td>0</td>\n",
              "      <td>...</td>\n",
              "      <td>Bank Withdrawal</td>\n",
              "      <td>73.9</td>\n",
              "      <td>280.85</td>\n",
              "      <td>0.00</td>\n",
              "      <td>0</td>\n",
              "      <td>134.60</td>\n",
              "      <td>415.45</td>\n",
              "      <td>Churned</td>\n",
              "      <td>Competitor</td>\n",
              "      <td>Competitor had better devices</td>\n",
              "    </tr>\n",
              "    <tr>\n",
              "      <th>3</th>\n",
              "      <td>0011-IGKFF</td>\n",
              "      <td>Male</td>\n",
              "      <td>78</td>\n",
              "      <td>Yes</td>\n",
              "      <td>0</td>\n",
              "      <td>Martinez</td>\n",
              "      <td>94553</td>\n",
              "      <td>38.014457</td>\n",
              "      <td>-122.115432</td>\n",
              "      <td>1</td>\n",
              "      <td>...</td>\n",
              "      <td>Bank Withdrawal</td>\n",
              "      <td>98.0</td>\n",
              "      <td>1237.85</td>\n",
              "      <td>0.00</td>\n",
              "      <td>0</td>\n",
              "      <td>361.66</td>\n",
              "      <td>1599.51</td>\n",
              "      <td>Churned</td>\n",
              "      <td>Dissatisfaction</td>\n",
              "      <td>Product dissatisfaction</td>\n",
              "    </tr>\n",
              "    <tr>\n",
              "      <th>4</th>\n",
              "      <td>0013-EXCHZ</td>\n",
              "      <td>Female</td>\n",
              "      <td>75</td>\n",
              "      <td>Yes</td>\n",
              "      <td>0</td>\n",
              "      <td>Camarillo</td>\n",
              "      <td>93010</td>\n",
              "      <td>34.227846</td>\n",
              "      <td>-119.079903</td>\n",
              "      <td>3</td>\n",
              "      <td>...</td>\n",
              "      <td>Credit Card</td>\n",
              "      <td>83.9</td>\n",
              "      <td>267.40</td>\n",
              "      <td>0.00</td>\n",
              "      <td>0</td>\n",
              "      <td>22.14</td>\n",
              "      <td>289.54</td>\n",
              "      <td>Churned</td>\n",
              "      <td>Dissatisfaction</td>\n",
              "      <td>Network reliability</td>\n",
              "    </tr>\n",
              "  </tbody>\n",
              "</table>\n",
              "<p>5 rows × 38 columns</p>\n",
              "</div>\n",
              "      <button class=\"colab-df-convert\" onclick=\"convertToInteractive('df-254a0866-d1a0-4dd8-abbb-e961c8287b46')\"\n",
              "              title=\"Convert this dataframe to an interactive table.\"\n",
              "              style=\"display:none;\">\n",
              "        \n",
              "  <svg xmlns=\"http://www.w3.org/2000/svg\" height=\"24px\"viewBox=\"0 0 24 24\"\n",
              "       width=\"24px\">\n",
              "    <path d=\"M0 0h24v24H0V0z\" fill=\"none\"/>\n",
              "    <path d=\"M18.56 5.44l.94 2.06.94-2.06 2.06-.94-2.06-.94-.94-2.06-.94 2.06-2.06.94zm-11 1L8.5 8.5l.94-2.06 2.06-.94-2.06-.94L8.5 2.5l-.94 2.06-2.06.94zm10 10l.94 2.06.94-2.06 2.06-.94-2.06-.94-.94-2.06-.94 2.06-2.06.94z\"/><path d=\"M17.41 7.96l-1.37-1.37c-.4-.4-.92-.59-1.43-.59-.52 0-1.04.2-1.43.59L10.3 9.45l-7.72 7.72c-.78.78-.78 2.05 0 2.83L4 21.41c.39.39.9.59 1.41.59.51 0 1.02-.2 1.41-.59l7.78-7.78 2.81-2.81c.8-.78.8-2.07 0-2.86zM5.41 20L4 18.59l7.72-7.72 1.47 1.35L5.41 20z\"/>\n",
              "  </svg>\n",
              "      </button>\n",
              "      \n",
              "  <style>\n",
              "    .colab-df-container {\n",
              "      display:flex;\n",
              "      flex-wrap:wrap;\n",
              "      gap: 12px;\n",
              "    }\n",
              "\n",
              "    .colab-df-convert {\n",
              "      background-color: #E8F0FE;\n",
              "      border: none;\n",
              "      border-radius: 50%;\n",
              "      cursor: pointer;\n",
              "      display: none;\n",
              "      fill: #1967D2;\n",
              "      height: 32px;\n",
              "      padding: 0 0 0 0;\n",
              "      width: 32px;\n",
              "    }\n",
              "\n",
              "    .colab-df-convert:hover {\n",
              "      background-color: #E2EBFA;\n",
              "      box-shadow: 0px 1px 2px rgba(60, 64, 67, 0.3), 0px 1px 3px 1px rgba(60, 64, 67, 0.15);\n",
              "      fill: #174EA6;\n",
              "    }\n",
              "\n",
              "    [theme=dark] .colab-df-convert {\n",
              "      background-color: #3B4455;\n",
              "      fill: #D2E3FC;\n",
              "    }\n",
              "\n",
              "    [theme=dark] .colab-df-convert:hover {\n",
              "      background-color: #434B5C;\n",
              "      box-shadow: 0px 1px 3px 1px rgba(0, 0, 0, 0.15);\n",
              "      filter: drop-shadow(0px 1px 2px rgba(0, 0, 0, 0.3));\n",
              "      fill: #FFFFFF;\n",
              "    }\n",
              "  </style>\n",
              "\n",
              "      <script>\n",
              "        const buttonEl =\n",
              "          document.querySelector('#df-254a0866-d1a0-4dd8-abbb-e961c8287b46 button.colab-df-convert');\n",
              "        buttonEl.style.display =\n",
              "          google.colab.kernel.accessAllowed ? 'block' : 'none';\n",
              "\n",
              "        async function convertToInteractive(key) {\n",
              "          const element = document.querySelector('#df-254a0866-d1a0-4dd8-abbb-e961c8287b46');\n",
              "          const dataTable =\n",
              "            await google.colab.kernel.invokeFunction('convertToInteractive',\n",
              "                                                     [key], {});\n",
              "          if (!dataTable) return;\n",
              "\n",
              "          const docLinkHtml = 'Like what you see? Visit the ' +\n",
              "            '<a target=\"_blank\" href=https://colab.research.google.com/notebooks/data_table.ipynb>data table notebook</a>'\n",
              "            + ' to learn more about interactive tables.';\n",
              "          element.innerHTML = '';\n",
              "          dataTable['output_type'] = 'display_data';\n",
              "          await google.colab.output.renderOutput(dataTable, element);\n",
              "          const docLink = document.createElement('div');\n",
              "          docLink.innerHTML = docLinkHtml;\n",
              "          element.appendChild(docLink);\n",
              "        }\n",
              "      </script>\n",
              "    </div>\n",
              "  </div>\n",
              "  "
            ]
          },
          "metadata": {},
          "execution_count": 3
        }
      ]
    },
    {
      "cell_type": "code",
      "source": [
        "df.shape"
      ],
      "metadata": {
        "id": "iLCe5YVXMWEb",
        "outputId": "34d4668c-3b3d-4a23-fdbc-688966a183d0",
        "execution": {
          "iopub.status.busy": "2022-08-11T02:51:04.939190Z",
          "iopub.execute_input": "2022-08-11T02:51:04.939748Z",
          "iopub.status.idle": "2022-08-11T02:51:04.946369Z",
          "shell.execute_reply.started": "2022-08-11T02:51:04.939694Z",
          "shell.execute_reply": "2022-08-11T02:51:04.945346Z"
        },
        "trusted": true,
        "colab": {
          "base_uri": "https://localhost:8080/"
        }
      },
      "execution_count": null,
      "outputs": [
        {
          "output_type": "execute_result",
          "data": {
            "text/plain": [
              "(7043, 38)"
            ]
          },
          "metadata": {},
          "execution_count": 4
        }
      ]
    },
    {
      "cell_type": "markdown",
      "source": [
        "Checking the missing data in file"
      ],
      "metadata": {
        "id": "s8aYfUoeMfxM"
      }
    },
    {
      "cell_type": "code",
      "source": [
        "df.isnull().sum()"
      ],
      "metadata": {
        "id": "SqehXuw4MbVm",
        "outputId": "0b1e54eb-ef0d-4955-f69b-4aad78519c88",
        "execution": {
          "iopub.status.busy": "2022-08-11T02:51:04.948923Z",
          "iopub.execute_input": "2022-08-11T02:51:04.949602Z",
          "iopub.status.idle": "2022-08-11T02:51:04.974418Z",
          "shell.execute_reply.started": "2022-08-11T02:51:04.949565Z",
          "shell.execute_reply": "2022-08-11T02:51:04.972877Z"
        },
        "trusted": true,
        "colab": {
          "base_uri": "https://localhost:8080/"
        }
      },
      "execution_count": null,
      "outputs": [
        {
          "output_type": "execute_result",
          "data": {
            "text/plain": [
              "Customer ID                             0\n",
              "Gender                                  0\n",
              "Age                                     0\n",
              "Married                                 0\n",
              "Number of Dependents                    0\n",
              "City                                    0\n",
              "Zip Code                                0\n",
              "Latitude                                0\n",
              "Longitude                               0\n",
              "Number of Referrals                     0\n",
              "Tenure in Months                        0\n",
              "Offer                                   0\n",
              "Phone Service                           0\n",
              "Avg Monthly Long Distance Charges     682\n",
              "Multiple Lines                        682\n",
              "Internet Service                        0\n",
              "Internet Type                        1526\n",
              "Avg Monthly GB Download              1526\n",
              "Online Security                      1526\n",
              "Online Backup                        1526\n",
              "Device Protection Plan               1526\n",
              "Premium Tech Support                 1526\n",
              "Streaming TV                         1526\n",
              "Streaming Movies                     1526\n",
              "Streaming Music                      1526\n",
              "Unlimited Data                       1526\n",
              "Contract                                0\n",
              "Paperless Billing                       0\n",
              "Payment Method                          0\n",
              "Monthly Charge                          0\n",
              "Total Charges                           0\n",
              "Total Refunds                           0\n",
              "Total Extra Data Charges                0\n",
              "Total Long Distance Charges             0\n",
              "Total Revenue                           0\n",
              "Customer Status                         0\n",
              "Churn Category                       5174\n",
              "Churn Reason                         5174\n",
              "dtype: int64"
            ]
          },
          "metadata": {},
          "execution_count": 5
        }
      ]
    },
    {
      "cell_type": "code",
      "source": [
        "df.dtypes"
      ],
      "metadata": {
        "id": "Jj74AMHDOqPm",
        "outputId": "eb6b807b-7c76-46d0-ceb5-95935f733bb5",
        "execution": {
          "iopub.status.busy": "2022-08-11T02:51:04.976057Z",
          "iopub.execute_input": "2022-08-11T02:51:04.976995Z",
          "iopub.status.idle": "2022-08-11T02:51:04.987767Z",
          "shell.execute_reply.started": "2022-08-11T02:51:04.976956Z",
          "shell.execute_reply": "2022-08-11T02:51:04.986296Z"
        },
        "trusted": true,
        "colab": {
          "base_uri": "https://localhost:8080/"
        }
      },
      "execution_count": null,
      "outputs": [
        {
          "output_type": "execute_result",
          "data": {
            "text/plain": [
              "Customer ID                           object\n",
              "Gender                                object\n",
              "Age                                    int64\n",
              "Married                               object\n",
              "Number of Dependents                   int64\n",
              "City                                  object\n",
              "Zip Code                               int64\n",
              "Latitude                             float64\n",
              "Longitude                            float64\n",
              "Number of Referrals                    int64\n",
              "Tenure in Months                       int64\n",
              "Offer                                 object\n",
              "Phone Service                         object\n",
              "Avg Monthly Long Distance Charges    float64\n",
              "Multiple Lines                        object\n",
              "Internet Service                      object\n",
              "Internet Type                         object\n",
              "Avg Monthly GB Download              float64\n",
              "Online Security                       object\n",
              "Online Backup                         object\n",
              "Device Protection Plan                object\n",
              "Premium Tech Support                  object\n",
              "Streaming TV                          object\n",
              "Streaming Movies                      object\n",
              "Streaming Music                       object\n",
              "Unlimited Data                        object\n",
              "Contract                              object\n",
              "Paperless Billing                     object\n",
              "Payment Method                        object\n",
              "Monthly Charge                       float64\n",
              "Total Charges                        float64\n",
              "Total Refunds                        float64\n",
              "Total Extra Data Charges               int64\n",
              "Total Long Distance Charges          float64\n",
              "Total Revenue                        float64\n",
              "Customer Status                       object\n",
              "Churn Category                        object\n",
              "Churn Reason                          object\n",
              "dtype: object"
            ]
          },
          "metadata": {},
          "execution_count": 6
        }
      ]
    },
    {
      "cell_type": "markdown",
      "source": [
        "Exploratory data analysis to get relevant information from data"
      ],
      "metadata": {
        "id": "YwJzVLg0Nk8g"
      }
    },
    {
      "cell_type": "code",
      "source": [
        "import seaborn as sns\n",
        "import matplotlib.pyplot as plt"
      ],
      "metadata": {
        "id": "y69ze_okMjry",
        "execution": {
          "iopub.status.busy": "2022-08-11T02:51:04.990165Z",
          "iopub.execute_input": "2022-08-11T02:51:04.990635Z",
          "iopub.status.idle": "2022-08-11T02:51:05.210986Z",
          "shell.execute_reply.started": "2022-08-11T02:51:04.990598Z",
          "shell.execute_reply": "2022-08-11T02:51:05.209231Z"
        },
        "trusted": true
      },
      "execution_count": null,
      "outputs": []
    },
    {
      "cell_type": "code",
      "source": [
        "#histogram is used to plot the numerical columns in the data set\n",
        "#plotting multiple numerical columns at once\n",
        "numerical = ['Age', 'Number of Dependents','Number of Referrals','Tenure in Months','Avg Monthly Long Distance Charges','Avg Monthly GB Download','Monthly Charge','Total Charges','Total Refunds','Total Extra Data Charges','Total Long Distance Charges','Total Revenue']"
      ],
      "metadata": {
        "id": "IjJ3DDLvNkOg",
        "execution": {
          "iopub.status.busy": "2022-08-11T02:51:05.212973Z",
          "iopub.execute_input": "2022-08-11T02:51:05.213365Z",
          "iopub.status.idle": "2022-08-11T02:51:05.220155Z",
          "shell.execute_reply.started": "2022-08-11T02:51:05.213317Z",
          "shell.execute_reply": "2022-08-11T02:51:05.218670Z"
        },
        "trusted": true
      },
      "execution_count": null,
      "outputs": []
    },
    {
      "cell_type": "code",
      "source": [
        "df[numerical].hist(bins = 15, figsize = (10,10))"
      ],
      "metadata": {
        "id": "h-ElPt1_N3RW",
        "outputId": "48b32fe3-e529-44a9-b629-16590035ba48",
        "execution": {
          "iopub.status.busy": "2022-08-11T02:51:05.221961Z",
          "iopub.execute_input": "2022-08-11T02:51:05.222363Z",
          "iopub.status.idle": "2022-08-11T02:51:06.727563Z",
          "shell.execute_reply.started": "2022-08-11T02:51:05.222328Z",
          "shell.execute_reply": "2022-08-11T02:51:06.726425Z"
        },
        "trusted": true,
        "colab": {
          "base_uri": "https://localhost:8080/",
          "height": 833
        }
      },
      "execution_count": null,
      "outputs": [
        {
          "output_type": "execute_result",
          "data": {
            "text/plain": [
              "array([[<matplotlib.axes._subplots.AxesSubplot object at 0x7fa82d863850>,\n",
              "        <matplotlib.axes._subplots.AxesSubplot object at 0x7fa82d847d50>,\n",
              "        <matplotlib.axes._subplots.AxesSubplot object at 0x7fa82d80d390>],\n",
              "       [<matplotlib.axes._subplots.AxesSubplot object at 0x7fa82d7c2990>,\n",
              "        <matplotlib.axes._subplots.AxesSubplot object at 0x7fa82d77cf90>,\n",
              "        <matplotlib.axes._subplots.AxesSubplot object at 0x7fa82d73f5d0>],\n",
              "       [<matplotlib.axes._subplots.AxesSubplot object at 0x7fa82d6f2c50>,\n",
              "        <matplotlib.axes._subplots.AxesSubplot object at 0x7fa82d6b61d0>,\n",
              "        <matplotlib.axes._subplots.AxesSubplot object at 0x7fa82d6b6210>],\n",
              "       [<matplotlib.axes._subplots.AxesSubplot object at 0x7fa82d66f910>,\n",
              "        <matplotlib.axes._subplots.AxesSubplot object at 0x7fa82d5e7450>,\n",
              "        <matplotlib.axes._subplots.AxesSubplot object at 0x7fa82d59da50>]],\n",
              "      dtype=object)"
            ]
          },
          "metadata": {},
          "execution_count": 9
        },
        {
          "output_type": "display_data",
          "data": {
            "text/plain": [
              "<Figure size 720x720 with 12 Axes>"
            ],
            "image/png": "[encoded data removed]"
          },
          "metadata": {
            "needs_background": "light"
          }
        }
      ]
    },
    {
      "cell_type": "code",
      "source": [
        "#Plotting categorical columns\n",
        "category = ['Gender','Married','Offer','Phone Service','Multiple Lines','Internet Service','Internet Type','Online Security'\n",
        ",'Online Backup'                         \n",
        ",'Device Protection Plan'                \n",
        ",'Premium Tech Support'                  \n",
        ",'Streaming TV'\n",
        ",'Streaming Movies'\n",
        ",'Streaming Music'                      \n",
        ",'Unlimited Data'\n",
        ",'Contract'\n",
        ",'Paperless Billing'\n",
        ",'Payment Method'\n",
        ",'Customer Status'\n",
        ",'Churn Category'\n",
        ",'Churn Reason']"
      ],
      "metadata": {
        "id": "xhywM1aePlUX",
        "execution": {
          "iopub.status.busy": "2022-08-11T02:51:06.729164Z",
          "iopub.execute_input": "2022-08-11T02:51:06.730158Z",
          "iopub.status.idle": "2022-08-11T02:51:06.735729Z",
          "shell.execute_reply.started": "2022-08-11T02:51:06.730121Z",
          "shell.execute_reply": "2022-08-11T02:51:06.734695Z"
        },
        "trusted": true
      },
      "execution_count": null,
      "outputs": []
    },
    {
      "cell_type": "code",
      "source": [
        "#for categorical columns we use count plots\n",
        "#to plot single column through sns\n",
        "sns.countplot(x = 'Gender', data = df)"
      ],
      "metadata": {
        "id": "bbI1fv76TNYU",
        "outputId": "cba739c0-5ac1-425b-e2b2-8e18f0c21901",
        "execution": {
          "iopub.status.busy": "2022-08-11T02:51:06.739252Z",
          "iopub.execute_input": "2022-08-11T02:51:06.739602Z",
          "iopub.status.idle": "2022-08-11T02:51:06.872973Z",
          "shell.execute_reply.started": "2022-08-11T02:51:06.739568Z",
          "shell.execute_reply": "2022-08-11T02:51:06.871963Z"
        },
        "trusted": true,
        "colab": {
          "base_uri": "https://localhost:8080/",
          "height": 296
        }
      },
      "execution_count": null,
      "outputs": [
        {
          "output_type": "execute_result",
          "data": {
            "text/plain": [
              "<matplotlib.axes._subplots.AxesSubplot at 0x7fa82d1b4f50>"
            ]
          },
          "metadata": {},
          "execution_count": 11
        },
        {
          "output_type": "display_data",
          "data": {
            "text/plain": [
              "<Figure size 432x288 with 1 Axes>"
            ],
            "image/png": "[encoded data removed]"
          },
          "metadata": {
            "needs_background": "light"
          }
        }
      ]
    },
    {
      "cell_type": "code",
      "source": [
        "#For plotting multiple category columns at once\n",
        "fig, ax = plt.subplots(2,4,figsize = (15,15))\n",
        "for variable, subplot in zip(category, ax.flatten()):\n",
        "  sns.countplot(df[variable], ax = subplot)\n",
        "  for label in subplot.get_xticklabels():\n",
        "    label.set_rotation(90)"
      ],
      "metadata": {
        "id": "KXBZCtVBVAcT",
        "outputId": "6c996f4a-2077-4b22-ce83-a23c63ecdee9",
        "execution": {
          "iopub.status.busy": "2022-08-11T02:51:06.874549Z",
          "iopub.execute_input": "2022-08-11T02:51:06.875069Z",
          "iopub.status.idle": "2022-08-11T02:51:07.976652Z",
          "shell.execute_reply.started": "2022-08-11T02:51:06.874989Z",
          "shell.execute_reply": "2022-08-11T02:51:07.975767Z"
        },
        "trusted": true,
        "colab": {
          "base_uri": "https://localhost:8080/",
          "height": 1000
        }
      },
      "execution_count": null,
      "outputs": [
        {
          "output_type": "stream",
          "name": "stderr",
          "text": [
            "/usr/local/lib/python3.7/dist-packages/seaborn/_decorators.py:43: FutureWarning: Pass the following variable as a keyword arg: x. From version 0.12, the only valid positional argument will be `data`, and passing other arguments without an explicit keyword will result in an error or misinterpretation.\n",
            "  FutureWarning\n",
            "/usr/local/lib/python3.7/dist-packages/seaborn/_decorators.py:43: FutureWarning: Pass the following variable as a keyword arg: x. From version 0.12, the only valid positional argument will be `data`, and passing other arguments without an explicit keyword will result in an error or misinterpretation.\n",
            "  FutureWarning\n",
            "/usr/local/lib/python3.7/dist-packages/seaborn/_decorators.py:43: FutureWarning: Pass the following variable as a keyword arg: x. From version 0.12, the only valid positional argument will be `data`, and passing other arguments without an explicit keyword will result in an error or misinterpretation.\n",
            "  FutureWarning\n",
            "/usr/local/lib/python3.7/dist-packages/seaborn/_decorators.py:43: FutureWarning: Pass the following variable as a keyword arg: x. From version 0.12, the only valid positional argument will be `data`, and passing other arguments without an explicit keyword will result in an error or misinterpretation.\n",
            "  FutureWarning\n",
            "/usr/local/lib/python3.7/dist-packages/seaborn/_decorators.py:43: FutureWarning: Pass the following variable as a keyword arg: x. From version 0.12, the only valid positional argument will be `data`, and passing other arguments without an explicit keyword will result in an error or misinterpretation.\n",
            "  FutureWarning\n",
            "/usr/local/lib/python3.7/dist-packages/seaborn/_decorators.py:43: FutureWarning: Pass the following variable as a keyword arg: x. From version 0.12, the only valid positional argument will be `data`, and passing other arguments without an explicit keyword will result in an error or misinterpretation.\n",
            "  FutureWarning\n",
            "/usr/local/lib/python3.7/dist-packages/seaborn/_decorators.py:43: FutureWarning: Pass the following variable as a keyword arg: x. From version 0.12, the only valid positional argument will be `data`, and passing other arguments without an explicit keyword will result in an error or misinterpretation.\n",
            "  FutureWarning\n",
            "/usr/local/lib/python3.7/dist-packages/seaborn/_decorators.py:43: FutureWarning: Pass the following variable as a keyword arg: x. From version 0.12, the only valid positional argument will be `data`, and passing other arguments without an explicit keyword will result in an error or misinterpretation.\n",
            "  FutureWarning\n"
          ]
        },
        {
          "output_type": "display_data",
          "data": {
            "text/plain": [
              "<Figure size 1080x1080 with 8 Axes>"
            ],
            "image/png": "[encoded data removed]"
          },
          "metadata": {
            "needs_background": "light"
          }
        }
      ]
    },
    {
      "cell_type": "markdown",
      "source": [
        "1.plotting boxplots with numerical columns & 'Customer Status' col in dataset\n",
        "\n",
        "2.box plots are used to plot relationship between numerical and categorical columns"
      ],
      "metadata": {
        "id": "g3oJT35NrFhs"
      }
    },
    {
      "cell_type": "code",
      "source": [
        "fig, ax = plt.subplots(3,3, figsize = (15,15))\n",
        "for var, subplot in zip(numerical, ax.flatten()):\n",
        "    sns.boxplot(x = var, y = 'Customer Status', data = df, ax = subplot)"
      ],
      "metadata": {
        "id": "MDkhZ0YrrFht",
        "outputId": "ed23cb6b-aec1-4823-e586-7d1842fc4753",
        "execution": {
          "iopub.status.busy": "2022-08-11T02:51:07.977972Z",
          "iopub.execute_input": "2022-08-11T02:51:07.978822Z",
          "iopub.status.idle": "2022-08-11T02:51:09.150806Z",
          "shell.execute_reply.started": "2022-08-11T02:51:07.978788Z",
          "shell.execute_reply": "2022-08-11T02:51:09.149593Z"
        },
        "trusted": true,
        "colab": {
          "base_uri": "https://localhost:8080/",
          "height": 877
        }
      },
      "execution_count": null,
      "outputs": [
        {
          "output_type": "display_data",
          "data": {
            "text/plain": [
              "<Figure size 1080x1080 with 9 Axes>"
            ],
            "image/png": "[encoded data removed]"
          },
          "metadata": {
            "needs_background": "light"
          }
        }
      ]
    },
    {
      "cell_type": "markdown",
      "source": [
        "Plotting correlation plot to see correlation between indeoendent variables"
      ],
      "metadata": {
        "id": "2EO8BOXkrFhu"
      }
    },
    {
      "cell_type": "code",
      "source": [
        "data  = df.corr()\n",
        "plt.figure(figsize = (20,10))\n",
        "sns.heatmap(data, annot = True)"
      ],
      "metadata": {
        "id": "Tcme6806rFhu",
        "outputId": "73457e3a-f6cc-4037-d1cf-352ba4462841",
        "execution": {
          "iopub.status.busy": "2022-08-11T02:51:09.152395Z",
          "iopub.execute_input": "2022-08-11T02:51:09.152739Z",
          "iopub.status.idle": "2022-08-11T02:51:10.505658Z",
          "shell.execute_reply.started": "2022-08-11T02:51:09.152697Z",
          "shell.execute_reply": "2022-08-11T02:51:10.504620Z"
        },
        "trusted": true,
        "colab": {
          "base_uri": "https://localhost:8080/",
          "height": 783
        }
      },
      "execution_count": null,
      "outputs": [
        {
          "output_type": "execute_result",
          "data": {
            "text/plain": [
              "<matplotlib.axes._subplots.AxesSubplot at 0x7fa82c51e3d0>"
            ]
          },
          "metadata": {},
          "execution_count": 14
        },
        {
          "output_type": "display_data",
          "data": {
            "text/plain": [
              "<Figure size 1440x720 with 2 Axes>"
            ],
            "image/png": "[encoded data removed]"
          },
          "metadata": {
            "needs_background": "light"
          }
        }
      ]
    },
    {
      "cell_type": "markdown",
      "source": [
        "Data Preprocessing"
      ],
      "metadata": {
        "execution": {
          "iopub.status.busy": "2022-08-10T05:41:10.116451Z",
          "iopub.execute_input": "2022-08-10T05:41:10.116874Z",
          "iopub.status.idle": "2022-08-10T05:41:10.123950Z",
          "shell.execute_reply.started": "2022-08-10T05:41:10.116839Z",
          "shell.execute_reply": "2022-08-10T05:41:10.122558Z"
        },
        "id": "K9yhoATOrFhv"
      }
    },
    {
      "cell_type": "code",
      "source": [
        "#The ID column is not much insightful \n",
        "df.drop('Customer ID',axis = 1, inplace = True)"
      ],
      "metadata": {
        "id": "-OtQ2btfrFhv",
        "execution": {
          "iopub.status.busy": "2022-08-11T02:51:10.507081Z",
          "iopub.execute_input": "2022-08-11T02:51:10.507878Z",
          "iopub.status.idle": "2022-08-11T02:51:10.517760Z",
          "shell.execute_reply.started": "2022-08-11T02:51:10.507827Z",
          "shell.execute_reply": "2022-08-11T02:51:10.516244Z"
        },
        "trusted": true
      },
      "execution_count": null,
      "outputs": []
    },
    {
      "cell_type": "code",
      "source": [
        "df['Gender'].value_counts()"
      ],
      "metadata": {
        "id": "r9qJl-8VrFhv",
        "outputId": "68ce9e48-3d4e-43a5-dc1f-c75ae59d8d40",
        "execution": {
          "iopub.status.busy": "2022-08-11T02:51:10.519740Z",
          "iopub.execute_input": "2022-08-11T02:51:10.520784Z",
          "iopub.status.idle": "2022-08-11T02:51:10.537638Z",
          "shell.execute_reply.started": "2022-08-11T02:51:10.520693Z",
          "shell.execute_reply": "2022-08-11T02:51:10.536076Z"
        },
        "trusted": true,
        "colab": {
          "base_uri": "https://localhost:8080/"
        }
      },
      "execution_count": null,
      "outputs": [
        {
          "output_type": "execute_result",
          "data": {
            "text/plain": [
              "Male      3555\n",
              "Female    3488\n",
              "Name: Gender, dtype: int64"
            ]
          },
          "metadata": {},
          "execution_count": 16
        }
      ]
    },
    {
      "cell_type": "code",
      "source": [
        "df['Married'].value_counts()"
      ],
      "metadata": {
        "id": "1jxV-MZXrFhw",
        "outputId": "881fc002-6639-4932-f270-38fc7a2bb1cc",
        "execution": {
          "iopub.status.busy": "2022-08-11T02:51:10.539608Z",
          "iopub.execute_input": "2022-08-11T02:51:10.540883Z",
          "iopub.status.idle": "2022-08-11T02:51:10.551684Z",
          "shell.execute_reply.started": "2022-08-11T02:51:10.540835Z",
          "shell.execute_reply": "2022-08-11T02:51:10.550613Z"
        },
        "trusted": true,
        "colab": {
          "base_uri": "https://localhost:8080/"
        }
      },
      "execution_count": null,
      "outputs": [
        {
          "output_type": "execute_result",
          "data": {
            "text/plain": [
              "No     3641\n",
              "Yes    3402\n",
              "Name: Married, dtype: int64"
            ]
          },
          "metadata": {},
          "execution_count": 17
        }
      ]
    },
    {
      "cell_type": "code",
      "source": [
        "df['Churn Reason'].value_counts()"
      ],
      "metadata": {
        "id": "660XjUcOrFhw",
        "outputId": "34dd81d7-f670-4d2b-f2ba-8bd650131ffa",
        "execution": {
          "iopub.status.busy": "2022-08-11T02:51:10.553277Z",
          "iopub.execute_input": "2022-08-11T02:51:10.554596Z",
          "iopub.status.idle": "2022-08-11T02:51:10.572190Z",
          "shell.execute_reply.started": "2022-08-11T02:51:10.554552Z",
          "shell.execute_reply": "2022-08-11T02:51:10.570939Z"
        },
        "trusted": true,
        "colab": {
          "base_uri": "https://localhost:8080/"
        }
      },
      "execution_count": null,
      "outputs": [
        {
          "output_type": "execute_result",
          "data": {
            "text/plain": [
              "Competitor had better devices                313\n",
              "Competitor made better offer                 311\n",
              "Attitude of support person                   220\n",
              "Don't know                                   130\n",
              "Competitor offered more data                 117\n",
              "Competitor offered higher download speeds    100\n",
              "Attitude of service provider                  94\n",
              "Price too high                                78\n",
              "Product dissatisfaction                       77\n",
              "Network reliability                           72\n",
              "Long distance charges                         64\n",
              "Service dissatisfaction                       63\n",
              "Moved                                         46\n",
              "Extra data charges                            39\n",
              "Limited range of services                     37\n",
              "Poor expertise of online support              31\n",
              "Lack of affordable download/upload speed      30\n",
              "Lack of self-service on Website               29\n",
              "Poor expertise of phone support               12\n",
              "Deceased                                       6\n",
              "Name: Churn Reason, dtype: int64"
            ]
          },
          "metadata": {},
          "execution_count": 18
        }
      ]
    },
    {
      "cell_type": "code",
      "source": [
        "df['Churn Category'].value_counts()"
      ],
      "metadata": {
        "id": "yeZ5FpkQrFhx",
        "outputId": "230f17a3-3536-4c0a-d33e-c2a735c3bf8c",
        "execution": {
          "iopub.status.busy": "2022-08-11T02:51:10.573963Z",
          "iopub.execute_input": "2022-08-11T02:51:10.574752Z",
          "iopub.status.idle": "2022-08-11T02:51:10.587672Z",
          "shell.execute_reply.started": "2022-08-11T02:51:10.574679Z",
          "shell.execute_reply": "2022-08-11T02:51:10.586791Z"
        },
        "trusted": true,
        "colab": {
          "base_uri": "https://localhost:8080/"
        }
      },
      "execution_count": null,
      "outputs": [
        {
          "output_type": "execute_result",
          "data": {
            "text/plain": [
              "Competitor         841\n",
              "Dissatisfaction    321\n",
              "Attitude           314\n",
              "Price              211\n",
              "Other              182\n",
              "Name: Churn Category, dtype: int64"
            ]
          },
          "metadata": {},
          "execution_count": 19
        }
      ]
    },
    {
      "cell_type": "code",
      "source": [
        "df['Payment Method'].value_counts()"
      ],
      "metadata": {
        "id": "vuv94hnVrFhx",
        "outputId": "ce7d37eb-8229-4886-e937-ee86b364e4ff",
        "execution": {
          "iopub.status.busy": "2022-08-11T02:51:10.589104Z",
          "iopub.execute_input": "2022-08-11T02:51:10.589867Z",
          "iopub.status.idle": "2022-08-11T02:51:10.601755Z",
          "shell.execute_reply.started": "2022-08-11T02:51:10.589833Z",
          "shell.execute_reply": "2022-08-11T02:51:10.600753Z"
        },
        "trusted": true,
        "colab": {
          "base_uri": "https://localhost:8080/"
        }
      },
      "execution_count": null,
      "outputs": [
        {
          "output_type": "execute_result",
          "data": {
            "text/plain": [
              "Bank Withdrawal    3909\n",
              "Credit Card        2749\n",
              "Mailed Check        385\n",
              "Name: Payment Method, dtype: int64"
            ]
          },
          "metadata": {},
          "execution_count": 20
        }
      ]
    },
    {
      "cell_type": "code",
      "source": [
        "#Since gender and maried column has only two subtypes we will replace string values to integer\n",
        "df['Gender'] = [1 if each == 'Female' else 0 for each in df['Gender']]\n",
        "df['Married'] = [1 if each == 'Yes' else 0 for each in df['Married']]"
      ],
      "metadata": {
        "id": "eqlDlsKqrFhx",
        "execution": {
          "iopub.status.busy": "2022-08-11T02:51:10.603240Z",
          "iopub.execute_input": "2022-08-11T02:51:10.603826Z",
          "iopub.status.idle": "2022-08-11T02:51:10.622152Z",
          "shell.execute_reply.started": "2022-08-11T02:51:10.603793Z",
          "shell.execute_reply": "2022-08-11T02:51:10.620806Z"
        },
        "trusted": true
      },
      "execution_count": null,
      "outputs": []
    },
    {
      "cell_type": "markdown",
      "source": [
        "For columns having more than two categories we will use map function to change values"
      ],
      "metadata": {
        "id": "iAp-F6qmrFhx"
      }
    },
    {
      "cell_type": "code",
      "source": [
        "df['Churn Category'] = df['Churn Category'].map({'Competitor':1\n",
        ",'Dissatisfaction':2\n",
        ",'Attitude':3\n",
        ",'Price':4\n",
        ",'Other':5})"
      ],
      "metadata": {
        "id": "L-bNzvFsrFhy",
        "execution": {
          "iopub.status.busy": "2022-08-11T02:51:10.623674Z",
          "iopub.execute_input": "2022-08-11T02:51:10.624369Z",
          "iopub.status.idle": "2022-08-11T02:51:10.634004Z",
          "shell.execute_reply.started": "2022-08-11T02:51:10.624330Z",
          "shell.execute_reply": "2022-08-11T02:51:10.632872Z"
        },
        "trusted": true
      },
      "execution_count": null,
      "outputs": []
    },
    {
      "cell_type": "code",
      "source": [
        "df['Payment Method'] = df['Payment Method'].map({'Bank Withdrawal':1\n",
        ",'Credit Card':2\n",
        ",'Mailed Check':3})"
      ],
      "metadata": {
        "id": "ni1oj8Q8rFhy",
        "execution": {
          "iopub.status.busy": "2022-08-11T02:51:10.635577Z",
          "iopub.execute_input": "2022-08-11T02:51:10.636213Z",
          "iopub.status.idle": "2022-08-11T02:51:10.647544Z",
          "shell.execute_reply.started": "2022-08-11T02:51:10.636165Z",
          "shell.execute_reply": "2022-08-11T02:51:10.646547Z"
        },
        "trusted": true
      },
      "execution_count": null,
      "outputs": []
    },
    {
      "cell_type": "code",
      "source": [
        "df['Churn Reason'].unique()\n",
        "#Copy all the unique categories from here and paste it in the map function + asign each category an int value "
      ],
      "metadata": {
        "id": "Uv9CrDwgrFhy",
        "outputId": "92961977-8c00-46d7-db4e-ec57ddfce438",
        "execution": {
          "iopub.status.busy": "2022-08-11T02:51:10.649460Z",
          "iopub.execute_input": "2022-08-11T02:51:10.649897Z",
          "iopub.status.idle": "2022-08-11T02:51:10.662303Z",
          "shell.execute_reply.started": "2022-08-11T02:51:10.649864Z",
          "shell.execute_reply": "2022-08-11T02:51:10.661227Z"
        },
        "trusted": true,
        "colab": {
          "base_uri": "https://localhost:8080/"
        }
      },
      "execution_count": null,
      "outputs": [
        {
          "output_type": "execute_result",
          "data": {
            "text/plain": [
              "array([nan, 'Competitor had better devices', 'Product dissatisfaction',\n",
              "       'Network reliability', 'Limited range of services',\n",
              "       'Competitor made better offer', \"Don't know\",\n",
              "       'Long distance charges', 'Attitude of service provider',\n",
              "       'Attitude of support person',\n",
              "       'Competitor offered higher download speeds',\n",
              "       'Competitor offered more data',\n",
              "       'Lack of affordable download/upload speed', 'Deceased', 'Moved',\n",
              "       'Service dissatisfaction', 'Price too high',\n",
              "       'Lack of self-service on Website',\n",
              "       'Poor expertise of online support', 'Extra data charges',\n",
              "       'Poor expertise of phone support'], dtype=object)"
            ]
          },
          "metadata": {},
          "execution_count": 24
        }
      ]
    },
    {
      "cell_type": "code",
      "source": [
        "df['Churn Reason'] = df['Churn Reason'].map({'Competitor had better devices':1, 'Product dissatisfaction':2,\n",
        "       'Network reliability':3, 'Limited range of services':4,\n",
        "       'Competitor made better offer':5, \"Don't know\":6,\n",
        "       'Long distance charges':7, 'Attitude of service provider':8,\n",
        "       'Attitude of support person':9,\n",
        "       'Competitor offered higher download speeds':10,\n",
        "       'Competitor offered more data':11,\n",
        "       'Lack of affordable download/upload speed':12, 'Deceased':13, 'Moved':14,\n",
        "       'Service dissatisfaction':15, 'Price too high':16,\n",
        "       'Lack of self-service on Website':17,\n",
        "       'Poor expertise of online support':18, 'Extra data charges':19,\n",
        "       'Poor expertise of phone support':20})"
      ],
      "metadata": {
        "id": "b3Wjdx_BrFhz",
        "execution": {
          "iopub.status.busy": "2022-08-11T02:51:10.663755Z",
          "iopub.execute_input": "2022-08-11T02:51:10.664713Z",
          "iopub.status.idle": "2022-08-11T02:51:10.673625Z",
          "shell.execute_reply.started": "2022-08-11T02:51:10.664680Z",
          "shell.execute_reply": "2022-08-11T02:51:10.672854Z"
        },
        "trusted": true
      },
      "execution_count": null,
      "outputs": []
    },
    {
      "cell_type": "code",
      "source": [
        "df['Customer Status'].value_counts()"
      ],
      "metadata": {
        "id": "FSLxM5UxrFhz",
        "outputId": "6ad3848a-0353-42c5-f397-b4a399ba5a48",
        "execution": {
          "iopub.status.busy": "2022-08-11T02:51:10.680153Z",
          "iopub.execute_input": "2022-08-11T02:51:10.680480Z",
          "iopub.status.idle": "2022-08-11T02:51:10.690217Z",
          "shell.execute_reply.started": "2022-08-11T02:51:10.680451Z",
          "shell.execute_reply": "2022-08-11T02:51:10.689041Z"
        },
        "trusted": true,
        "colab": {
          "base_uri": "https://localhost:8080/"
        }
      },
      "execution_count": null,
      "outputs": [
        {
          "output_type": "execute_result",
          "data": {
            "text/plain": [
              "Stayed     4720\n",
              "Churned    1869\n",
              "Joined      454\n",
              "Name: Customer Status, dtype: int64"
            ]
          },
          "metadata": {},
          "execution_count": 26
        }
      ]
    },
    {
      "cell_type": "code",
      "source": [
        "df['Customer Status'] = df['Customer Status'].map({'Stayed':1\n",
        ",'Churned':2\n",
        ",'Joined':3})"
      ],
      "metadata": {
        "id": "rBvMCSYbrFh0",
        "execution": {
          "iopub.status.busy": "2022-08-11T02:51:10.691389Z",
          "iopub.execute_input": "2022-08-11T02:51:10.692332Z",
          "iopub.status.idle": "2022-08-11T02:51:10.704472Z",
          "shell.execute_reply.started": "2022-08-11T02:51:10.692298Z",
          "shell.execute_reply": "2022-08-11T02:51:10.703255Z"
        },
        "trusted": true
      },
      "execution_count": null,
      "outputs": []
    },
    {
      "cell_type": "code",
      "source": [
        "df.head()"
      ],
      "metadata": {
        "id": "Sj8vZrgJrFh0",
        "outputId": "8d03f957-2331-413b-95d8-409f37553240",
        "execution": {
          "iopub.status.busy": "2022-08-11T02:51:10.705713Z",
          "iopub.execute_input": "2022-08-11T02:51:10.706399Z",
          "iopub.status.idle": "2022-08-11T02:51:10.735650Z",
          "shell.execute_reply.started": "2022-08-11T02:51:10.706365Z",
          "shell.execute_reply": "2022-08-11T02:51:10.734854Z"
        },
        "trusted": true,
        "colab": {
          "base_uri": "https://localhost:8080/",
          "height": 386
        }
      },
      "execution_count": null,
      "outputs": [
        {
          "output_type": "execute_result",
          "data": {
            "text/plain": [
              "   Gender  Age  Married  Number of Dependents          City  Zip Code  \\\n",
              "0       1   37        1                     0  Frazier Park     93225   \n",
              "1       0   46        0                     0      Glendale     91206   \n",
              "2       0   50        0                     0    Costa Mesa     92627   \n",
              "3       0   78        1                     0      Martinez     94553   \n",
              "4       1   75        1                     0     Camarillo     93010   \n",
              "\n",
              "    Latitude   Longitude  Number of Referrals  Tenure in Months  ...  \\\n",
              "0  34.827662 -118.999073                    2                 9  ...   \n",
              "1  34.162515 -118.203869                    0                 9  ...   \n",
              "2  33.645672 -117.922613                    0                 4  ...   \n",
              "3  38.014457 -122.115432                    1                13  ...   \n",
              "4  34.227846 -119.079903                    3                 3  ...   \n",
              "\n",
              "  Payment Method Monthly Charge  Total Charges Total Refunds  \\\n",
              "0              2           65.6         593.30          0.00   \n",
              "1              2           -4.0         542.40         38.33   \n",
              "2              1           73.9         280.85          0.00   \n",
              "3              1           98.0        1237.85          0.00   \n",
              "4              2           83.9         267.40          0.00   \n",
              "\n",
              "  Total Extra Data Charges Total Long Distance Charges  Total Revenue  \\\n",
              "0                        0                      381.51         974.81   \n",
              "1                       10                       96.21         610.28   \n",
              "2                        0                      134.60         415.45   \n",
              "3                        0                      361.66        1599.51   \n",
              "4                        0                       22.14         289.54   \n",
              "\n",
              "  Customer Status Churn Category Churn Reason  \n",
              "0               1            NaN          NaN  \n",
              "1               1            NaN          NaN  \n",
              "2               2            1.0          1.0  \n",
              "3               2            2.0          2.0  \n",
              "4               2            2.0          3.0  \n",
              "\n",
              "[5 rows x 37 columns]"
            ],
            "text/html": [
              "\n",
              "  <div id=\"df-8106b1bf-7c50-4d8c-a1fb-965463af76cc\">\n",
              "    <div class=\"colab-df-container\">\n",
              "      <div>\n",
              "<style scoped>\n",
              "    .dataframe tbody tr th:only-of-type {\n",
              "        vertical-align: middle;\n",
              "    }\n",
              "\n",
              "    .dataframe tbody tr th {\n",
              "        vertical-align: top;\n",
              "    }\n",
              "\n",
              "    .dataframe thead th {\n",
              "        text-align: right;\n",
              "    }\n",
              "</style>\n",
              "<table border=\"1\" class=\"dataframe\">\n",
              "  <thead>\n",
              "    <tr style=\"text-align: right;\">\n",
              "      <th></th>\n",
              "      <th>Gender</th>\n",
              "      <th>Age</th>\n",
              "      <th>Married</th>\n",
              "      <th>Number of Dependents</th>\n",
              "      <th>City</th>\n",
              "      <th>Zip Code</th>\n",
              "      <th>Latitude</th>\n",
              "      <th>Longitude</th>\n",
              "      <th>Number of Referrals</th>\n",
              "      <th>Tenure in Months</th>\n",
              "      <th>...</th>\n",
              "      <th>Payment Method</th>\n",
              "      <th>Monthly Charge</th>\n",
              "      <th>Total Charges</th>\n",
              "      <th>Total Refunds</th>\n",
              "      <th>Total Extra Data Charges</th>\n",
              "      <th>Total Long Distance Charges</th>\n",
              "      <th>Total Revenue</th>\n",
              "      <th>Customer Status</th>\n",
              "      <th>Churn Category</th>\n",
              "      <th>Churn Reason</th>\n",
              "    </tr>\n",
              "  </thead>\n",
              "  <tbody>\n",
              "    <tr>\n",
              "      <th>0</th>\n",
              "      <td>1</td>\n",
              "      <td>37</td>\n",
              "      <td>1</td>\n",
              "      <td>0</td>\n",
              "      <td>Frazier Park</td>\n",
              "      <td>93225</td>\n",
              "      <td>34.827662</td>\n",
              "      <td>-118.999073</td>\n",
              "      <td>2</td>\n",
              "      <td>9</td>\n",
              "      <td>...</td>\n",
              "      <td>2</td>\n",
              "      <td>65.6</td>\n",
              "      <td>593.30</td>\n",
              "      <td>0.00</td>\n",
              "      <td>0</td>\n",
              "      <td>381.51</td>\n",
              "      <td>974.81</td>\n",
              "      <td>1</td>\n",
              "      <td>NaN</td>\n",
              "      <td>NaN</td>\n",
              "    </tr>\n",
              "    <tr>\n",
              "      <th>1</th>\n",
              "      <td>0</td>\n",
              "      <td>46</td>\n",
              "      <td>0</td>\n",
              "      <td>0</td>\n",
              "      <td>Glendale</td>\n",
              "      <td>91206</td>\n",
              "      <td>34.162515</td>\n",
              "      <td>-118.203869</td>\n",
              "      <td>0</td>\n",
              "      <td>9</td>\n",
              "      <td>...</td>\n",
              "      <td>2</td>\n",
              "      <td>-4.0</td>\n",
              "      <td>542.40</td>\n",
              "      <td>38.33</td>\n",
              "      <td>10</td>\n",
              "      <td>96.21</td>\n",
              "      <td>610.28</td>\n",
              "      <td>1</td>\n",
              "      <td>NaN</td>\n",
              "      <td>NaN</td>\n",
              "    </tr>\n",
              "    <tr>\n",
              "      <th>2</th>\n",
              "      <td>0</td>\n",
              "      <td>50</td>\n",
              "      <td>0</td>\n",
              "      <td>0</td>\n",
              "      <td>Costa Mesa</td>\n",
              "      <td>92627</td>\n",
              "      <td>33.645672</td>\n",
              "      <td>-117.922613</td>\n",
              "      <td>0</td>\n",
              "      <td>4</td>\n",
              "      <td>...</td>\n",
              "      <td>1</td>\n",
              "      <td>73.9</td>\n",
              "      <td>280.85</td>\n",
              "      <td>0.00</td>\n",
              "      <td>0</td>\n",
              "      <td>134.60</td>\n",
              "      <td>415.45</td>\n",
              "      <td>2</td>\n",
              "      <td>1.0</td>\n",
              "      <td>1.0</td>\n",
              "    </tr>\n",
              "    <tr>\n",
              "      <th>3</th>\n",
              "      <td>0</td>\n",
              "      <td>78</td>\n",
              "      <td>1</td>\n",
              "      <td>0</td>\n",
              "      <td>Martinez</td>\n",
              "      <td>94553</td>\n",
              "      <td>38.014457</td>\n",
              "      <td>-122.115432</td>\n",
              "      <td>1</td>\n",
              "      <td>13</td>\n",
              "      <td>...</td>\n",
              "      <td>1</td>\n",
              "      <td>98.0</td>\n",
              "      <td>1237.85</td>\n",
              "      <td>0.00</td>\n",
              "      <td>0</td>\n",
              "      <td>361.66</td>\n",
              "      <td>1599.51</td>\n",
              "      <td>2</td>\n",
              "      <td>2.0</td>\n",
              "      <td>2.0</td>\n",
              "    </tr>\n",
              "    <tr>\n",
              "      <th>4</th>\n",
              "      <td>1</td>\n",
              "      <td>75</td>\n",
              "      <td>1</td>\n",
              "      <td>0</td>\n",
              "      <td>Camarillo</td>\n",
              "      <td>93010</td>\n",
              "      <td>34.227846</td>\n",
              "      <td>-119.079903</td>\n",
              "      <td>3</td>\n",
              "      <td>3</td>\n",
              "      <td>...</td>\n",
              "      <td>2</td>\n",
              "      <td>83.9</td>\n",
              "      <td>267.40</td>\n",
              "      <td>0.00</td>\n",
              "      <td>0</td>\n",
              "      <td>22.14</td>\n",
              "      <td>289.54</td>\n",
              "      <td>2</td>\n",
              "      <td>2.0</td>\n",
              "      <td>3.0</td>\n",
              "    </tr>\n",
              "  </tbody>\n",
              "</table>\n",
              "<p>5 rows × 37 columns</p>\n",
              "</div>\n",
              "      <button class=\"colab-df-convert\" onclick=\"convertToInteractive('df-8106b1bf-7c50-4d8c-a1fb-965463af76cc')\"\n",
              "              title=\"Convert this dataframe to an interactive table.\"\n",
              "              style=\"display:none;\">\n",
              "        \n",
              "  <svg xmlns=\"http://www.w3.org/2000/svg\" height=\"24px\"viewBox=\"0 0 24 24\"\n",
              "       width=\"24px\">\n",
              "    <path d=\"M0 0h24v24H0V0z\" fill=\"none\"/>\n",
              "    <path d=\"M18.56 5.44l.94 2.06.94-2.06 2.06-.94-2.06-.94-.94-2.06-.94 2.06-2.06.94zm-11 1L8.5 8.5l.94-2.06 2.06-.94-2.06-.94L8.5 2.5l-.94 2.06-2.06.94zm10 10l.94 2.06.94-2.06 2.06-.94-2.06-.94-.94-2.06-.94 2.06-2.06.94z\"/><path d=\"M17.41 7.96l-1.37-1.37c-.4-.4-.92-.59-1.43-.59-.52 0-1.04.2-1.43.59L10.3 9.45l-7.72 7.72c-.78.78-.78 2.05 0 2.83L4 21.41c.39.39.9.59 1.41.59.51 0 1.02-.2 1.41-.59l7.78-7.78 2.81-2.81c.8-.78.8-2.07 0-2.86zM5.41 20L4 18.59l7.72-7.72 1.47 1.35L5.41 20z\"/>\n",
              "  </svg>\n",
              "      </button>\n",
              "      \n",
              "  <style>\n",
              "    .colab-df-container {\n",
              "      display:flex;\n",
              "      flex-wrap:wrap;\n",
              "      gap: 12px;\n",
              "    }\n",
              "\n",
              "    .colab-df-convert {\n",
              "      background-color: #E8F0FE;\n",
              "      border: none;\n",
              "      border-radius: 50%;\n",
              "      cursor: pointer;\n",
              "      display: none;\n",
              "      fill: #1967D2;\n",
              "      height: 32px;\n",
              "      padding: 0 0 0 0;\n",
              "      width: 32px;\n",
              "    }\n",
              "\n",
              "    .colab-df-convert:hover {\n",
              "      background-color: #E2EBFA;\n",
              "      box-shadow: 0px 1px 2px rgba(60, 64, 67, 0.3), 0px 1px 3px 1px rgba(60, 64, 67, 0.15);\n",
              "      fill: #174EA6;\n",
              "    }\n",
              "\n",
              "    [theme=dark] .colab-df-convert {\n",
              "      background-color: #3B4455;\n",
              "      fill: #D2E3FC;\n",
              "    }\n",
              "\n",
              "    [theme=dark] .colab-df-convert:hover {\n",
              "      background-color: #434B5C;\n",
              "      box-shadow: 0px 1px 3px 1px rgba(0, 0, 0, 0.15);\n",
              "      filter: drop-shadow(0px 1px 2px rgba(0, 0, 0, 0.3));\n",
              "      fill: #FFFFFF;\n",
              "    }\n",
              "  </style>\n",
              "\n",
              "      <script>\n",
              "        const buttonEl =\n",
              "          document.querySelector('#df-8106b1bf-7c50-4d8c-a1fb-965463af76cc button.colab-df-convert');\n",
              "        buttonEl.style.display =\n",
              "          google.colab.kernel.accessAllowed ? 'block' : 'none';\n",
              "\n",
              "        async function convertToInteractive(key) {\n",
              "          const element = document.querySelector('#df-8106b1bf-7c50-4d8c-a1fb-965463af76cc');\n",
              "          const dataTable =\n",
              "            await google.colab.kernel.invokeFunction('convertToInteractive',\n",
              "                                                     [key], {});\n",
              "          if (!dataTable) return;\n",
              "\n",
              "          const docLinkHtml = 'Like what you see? Visit the ' +\n",
              "            '<a target=\"_blank\" href=https://colab.research.google.com/notebooks/data_table.ipynb>data table notebook</a>'\n",
              "            + ' to learn more about interactive tables.';\n",
              "          element.innerHTML = '';\n",
              "          dataTable['output_type'] = 'display_data';\n",
              "          await google.colab.output.renderOutput(dataTable, element);\n",
              "          const docLink = document.createElement('div');\n",
              "          docLink.innerHTML = docLinkHtml;\n",
              "          element.appendChild(docLink);\n",
              "        }\n",
              "      </script>\n",
              "    </div>\n",
              "  </div>\n",
              "  "
            ]
          },
          "metadata": {},
          "execution_count": 28
        }
      ]
    },
    {
      "cell_type": "code",
      "source": [
        "df.dtypes"
      ],
      "metadata": {
        "id": "OJtgdx1ZrFh0",
        "outputId": "e25650a1-b795-44d4-91f1-84400c733dc8",
        "execution": {
          "iopub.status.busy": "2022-08-11T02:51:10.736793Z",
          "iopub.execute_input": "2022-08-11T02:51:10.737535Z",
          "iopub.status.idle": "2022-08-11T02:51:10.745353Z",
          "shell.execute_reply.started": "2022-08-11T02:51:10.737502Z",
          "shell.execute_reply": "2022-08-11T02:51:10.744262Z"
        },
        "trusted": true,
        "colab": {
          "base_uri": "https://localhost:8080/"
        }
      },
      "execution_count": null,
      "outputs": [
        {
          "output_type": "execute_result",
          "data": {
            "text/plain": [
              "Gender                                 int64\n",
              "Age                                    int64\n",
              "Married                                int64\n",
              "Number of Dependents                   int64\n",
              "City                                  object\n",
              "Zip Code                               int64\n",
              "Latitude                             float64\n",
              "Longitude                            float64\n",
              "Number of Referrals                    int64\n",
              "Tenure in Months                       int64\n",
              "Offer                                 object\n",
              "Phone Service                         object\n",
              "Avg Monthly Long Distance Charges    float64\n",
              "Multiple Lines                        object\n",
              "Internet Service                      object\n",
              "Internet Type                         object\n",
              "Avg Monthly GB Download              float64\n",
              "Online Security                       object\n",
              "Online Backup                         object\n",
              "Device Protection Plan                object\n",
              "Premium Tech Support                  object\n",
              "Streaming TV                          object\n",
              "Streaming Movies                      object\n",
              "Streaming Music                       object\n",
              "Unlimited Data                        object\n",
              "Contract                              object\n",
              "Paperless Billing                     object\n",
              "Payment Method                         int64\n",
              "Monthly Charge                       float64\n",
              "Total Charges                        float64\n",
              "Total Refunds                        float64\n",
              "Total Extra Data Charges               int64\n",
              "Total Long Distance Charges          float64\n",
              "Total Revenue                        float64\n",
              "Customer Status                        int64\n",
              "Churn Category                       float64\n",
              "Churn Reason                         float64\n",
              "dtype: object"
            ]
          },
          "metadata": {},
          "execution_count": 29
        }
      ]
    },
    {
      "cell_type": "markdown",
      "source": [
        "There are a still lot of columns which has data type object -> which means that all these columns need to be transformed\n",
        "\n",
        "note -  Some classification model handels data efficiently even without label encoding like Decison Trees or Rnadom Forest, but models like SVM and KNN are sensitive to null values, outliers and even string data type. \n",
        "So data transformation is rather an important step that can't be overlooked."
      ],
      "metadata": {
        "id": "GhpItoxLrFh0"
      }
    },
    {
      "cell_type": "code",
      "source": [
        "df['Phone Service'] = [1 if each == 'Yes' else 0 for each in df['Phone Service']]\n",
        "df['Multiple Lines'] = [1 if each == 'Yes' else 0 for each in df['Multiple Lines']]\n",
        "df['Internet Service'] = [1 if each == 'Yes' else 0 for each in df['Internet Service']]\n",
        "df['Internet Type'] = [1 if each == 'Yes' else 0 for each in df['Internet Type']]\n",
        "df['Online Security'] = [1 if each == 'Yes' else 0 for each in df['Online Security']]\n",
        "df['Online Backup'] = [1 if each == 'Yes' else 0 for each in df['Online Backup']]\n",
        "df['Device Protection Plan'] = [1 if each == 'Yes' else 0 for each in df['Device Protection Plan']]\n",
        "df['Premium Tech Support'] = [1 if each == 'Yes' else 0 for each in df['Premium Tech Support']]\n",
        "df['Streaming TV'] = [1 if each == 'Yes' else 0 for each in df['Streaming TV']]\n",
        "df['Streaming Movies'] = [1 if each == 'Yes' else 0 for each in df['Streaming Movies']]\n",
        "df['Streaming Music'] = [1 if each == 'Yes' else 0 for each in df['Streaming Music']]\n",
        "df['Unlimited Data'] = [1 if each == 'Yes' else 0 for each in df['Unlimited Data']]\n",
        "df['Paperless Billing'] = [1 if each == 'Yes' else 0 for each in df['Paperless Billing']]"
      ],
      "metadata": {
        "id": "1dQOY_iUrFh1",
        "execution": {
          "iopub.status.busy": "2022-08-11T02:51:10.746598Z",
          "iopub.execute_input": "2022-08-11T02:51:10.747093Z",
          "iopub.status.idle": "2022-08-11T02:51:10.811973Z",
          "shell.execute_reply.started": "2022-08-11T02:51:10.747062Z",
          "shell.execute_reply": "2022-08-11T02:51:10.810939Z"
        },
        "trusted": true
      },
      "execution_count": null,
      "outputs": []
    },
    {
      "cell_type": "code",
      "source": [
        "#Contract column has more than two sub-categories\n",
        "df['Contract'].unique()"
      ],
      "metadata": {
        "id": "NWATiHRHrFh1",
        "outputId": "f2e90b66-344b-4569-a72d-7c32b32911d4",
        "execution": {
          "iopub.status.busy": "2022-08-11T02:51:10.813583Z",
          "iopub.execute_input": "2022-08-11T02:51:10.814082Z",
          "iopub.status.idle": "2022-08-11T02:51:10.821329Z",
          "shell.execute_reply.started": "2022-08-11T02:51:10.814051Z",
          "shell.execute_reply": "2022-08-11T02:51:10.820308Z"
        },
        "trusted": true,
        "colab": {
          "base_uri": "https://localhost:8080/"
        }
      },
      "execution_count": null,
      "outputs": [
        {
          "output_type": "execute_result",
          "data": {
            "text/plain": [
              "array(['One Year', 'Month-to-Month', 'Two Year'], dtype=object)"
            ]
          },
          "metadata": {},
          "execution_count": 31
        }
      ]
    },
    {
      "cell_type": "code",
      "source": [
        "df['Contract'] = df['Contract'].map({'One Year':1, 'Month-to-Month':2, 'Two Year':3})"
      ],
      "metadata": {
        "id": "XuV2omUirFh1",
        "execution": {
          "iopub.status.busy": "2022-08-11T02:51:10.822944Z",
          "iopub.execute_input": "2022-08-11T02:51:10.823253Z",
          "iopub.status.idle": "2022-08-11T02:51:10.834149Z",
          "shell.execute_reply.started": "2022-08-11T02:51:10.823225Z",
          "shell.execute_reply": "2022-08-11T02:51:10.833158Z"
        },
        "trusted": true
      },
      "execution_count": null,
      "outputs": []
    },
    {
      "cell_type": "code",
      "source": [
        "df['Offer'].unique()"
      ],
      "metadata": {
        "id": "vByY0-otrFh1",
        "outputId": "8c088370-86b5-4a0b-ae8d-1bc10b569ac8",
        "execution": {
          "iopub.status.busy": "2022-08-11T02:51:10.835466Z",
          "iopub.execute_input": "2022-08-11T02:51:10.836521Z",
          "iopub.status.idle": "2022-08-11T02:51:10.850227Z",
          "shell.execute_reply.started": "2022-08-11T02:51:10.836434Z",
          "shell.execute_reply": "2022-08-11T02:51:10.848975Z"
        },
        "trusted": true,
        "colab": {
          "base_uri": "https://localhost:8080/"
        }
      },
      "execution_count": null,
      "outputs": [
        {
          "output_type": "execute_result",
          "data": {
            "text/plain": [
              "array(['None', 'Offer E', 'Offer D', 'Offer A', 'Offer B', 'Offer C'],\n",
              "      dtype=object)"
            ]
          },
          "metadata": {},
          "execution_count": 33
        }
      ]
    },
    {
      "cell_type": "code",
      "source": [
        "df['Offer'] = df['Offer'].map({'None':0, 'Offer E':1, 'Offer D':2, 'Offer A':3, 'Offer B':4, 'Offer C':5})"
      ],
      "metadata": {
        "id": "pRntkmJFrFh1",
        "execution": {
          "iopub.status.busy": "2022-08-11T02:51:10.851983Z",
          "iopub.execute_input": "2022-08-11T02:51:10.852668Z",
          "iopub.status.idle": "2022-08-11T02:51:10.862880Z",
          "shell.execute_reply.started": "2022-08-11T02:51:10.852625Z",
          "shell.execute_reply": "2022-08-11T02:51:10.861837Z"
        },
        "trusted": true
      },
      "execution_count": null,
      "outputs": []
    },
    {
      "cell_type": "code",
      "source": [
        "#Let's Check if the data has been preprocessed completely\n",
        "df.head()"
      ],
      "metadata": {
        "id": "U1pnU3oUrFh2",
        "outputId": "ce99faf7-f35b-44e3-d591-30d3d816e1e8",
        "execution": {
          "iopub.status.busy": "2022-08-11T02:51:10.864488Z",
          "iopub.execute_input": "2022-08-11T02:51:10.865234Z",
          "iopub.status.idle": "2022-08-11T02:51:10.894641Z",
          "shell.execute_reply.started": "2022-08-11T02:51:10.865190Z",
          "shell.execute_reply": "2022-08-11T02:51:10.893635Z"
        },
        "trusted": true,
        "colab": {
          "base_uri": "https://localhost:8080/",
          "height": 386
        }
      },
      "execution_count": null,
      "outputs": [
        {
          "output_type": "execute_result",
          "data": {
            "text/plain": [
              "   Gender  Age  Married  Number of Dependents          City  Zip Code  \\\n",
              "0       1   37        1                     0  Frazier Park     93225   \n",
              "1       0   46        0                     0      Glendale     91206   \n",
              "2       0   50        0                     0    Costa Mesa     92627   \n",
              "3       0   78        1                     0      Martinez     94553   \n",
              "4       1   75        1                     0     Camarillo     93010   \n",
              "\n",
              "    Latitude   Longitude  Number of Referrals  Tenure in Months  ...  \\\n",
              "0  34.827662 -118.999073                    2                 9  ...   \n",
              "1  34.162515 -118.203869                    0                 9  ...   \n",
              "2  33.645672 -117.922613                    0                 4  ...   \n",
              "3  38.014457 -122.115432                    1                13  ...   \n",
              "4  34.227846 -119.079903                    3                 3  ...   \n",
              "\n",
              "   Payment Method  Monthly Charge  Total Charges  Total Refunds  \\\n",
              "0               2            65.6         593.30           0.00   \n",
              "1               2            -4.0         542.40          38.33   \n",
              "2               1            73.9         280.85           0.00   \n",
              "3               1            98.0        1237.85           0.00   \n",
              "4               2            83.9         267.40           0.00   \n",
              "\n",
              "   Total Extra Data Charges  Total Long Distance Charges  Total Revenue  \\\n",
              "0                         0                       381.51         974.81   \n",
              "1                        10                        96.21         610.28   \n",
              "2                         0                       134.60         415.45   \n",
              "3                         0                       361.66        1599.51   \n",
              "4                         0                        22.14         289.54   \n",
              "\n",
              "   Customer Status  Churn Category  Churn Reason  \n",
              "0                1             NaN           NaN  \n",
              "1                1             NaN           NaN  \n",
              "2                2             1.0           1.0  \n",
              "3                2             2.0           2.0  \n",
              "4                2             2.0           3.0  \n",
              "\n",
              "[5 rows x 37 columns]"
            ],
            "text/html": [
              "\n",
              "  <div id=\"df-28649981-f657-411a-9e75-f843e2df15af\">\n",
              "    <div class=\"colab-df-container\">\n",
              "      <div>\n",
              "<style scoped>\n",
              "    .dataframe tbody tr th:only-of-type {\n",
              "        vertical-align: middle;\n",
              "    }\n",
              "\n",
              "    .dataframe tbody tr th {\n",
              "        vertical-align: top;\n",
              "    }\n",
              "\n",
              "    .dataframe thead th {\n",
              "        text-align: right;\n",
              "    }\n",
              "</style>\n",
              "<table border=\"1\" class=\"dataframe\">\n",
              "  <thead>\n",
              "    <tr style=\"text-align: right;\">\n",
              "      <th></th>\n",
              "      <th>Gender</th>\n",
              "      <th>Age</th>\n",
              "      <th>Married</th>\n",
              "      <th>Number of Dependents</th>\n",
              "      <th>City</th>\n",
              "      <th>Zip Code</th>\n",
              "      <th>Latitude</th>\n",
              "      <th>Longitude</th>\n",
              "      <th>Number of Referrals</th>\n",
              "      <th>Tenure in Months</th>\n",
              "      <th>...</th>\n",
              "      <th>Payment Method</th>\n",
              "      <th>Monthly Charge</th>\n",
              "      <th>Total Charges</th>\n",
              "      <th>Total Refunds</th>\n",
              "      <th>Total Extra Data Charges</th>\n",
              "      <th>Total Long Distance Charges</th>\n",
              "      <th>Total Revenue</th>\n",
              "      <th>Customer Status</th>\n",
              "      <th>Churn Category</th>\n",
              "      <th>Churn Reason</th>\n",
              "    </tr>\n",
              "  </thead>\n",
              "  <tbody>\n",
              "    <tr>\n",
              "      <th>0</th>\n",
              "      <td>1</td>\n",
              "      <td>37</td>\n",
              "      <td>1</td>\n",
              "      <td>0</td>\n",
              "      <td>Frazier Park</td>\n",
              "      <td>93225</td>\n",
              "      <td>34.827662</td>\n",
              "      <td>-118.999073</td>\n",
              "      <td>2</td>\n",
              "      <td>9</td>\n",
              "      <td>...</td>\n",
              "      <td>2</td>\n",
              "      <td>65.6</td>\n",
              "      <td>593.30</td>\n",
              "      <td>0.00</td>\n",
              "      <td>0</td>\n",
              "      <td>381.51</td>\n",
              "      <td>974.81</td>\n",
              "      <td>1</td>\n",
              "      <td>NaN</td>\n",
              "      <td>NaN</td>\n",
              "    </tr>\n",
              "    <tr>\n",
              "      <th>1</th>\n",
              "      <td>0</td>\n",
              "      <td>46</td>\n",
              "      <td>0</td>\n",
              "      <td>0</td>\n",
              "      <td>Glendale</td>\n",
              "      <td>91206</td>\n",
              "      <td>34.162515</td>\n",
              "      <td>-118.203869</td>\n",
              "      <td>0</td>\n",
              "      <td>9</td>\n",
              "      <td>...</td>\n",
              "      <td>2</td>\n",
              "      <td>-4.0</td>\n",
              "      <td>542.40</td>\n",
              "      <td>38.33</td>\n",
              "      <td>10</td>\n",
              "      <td>96.21</td>\n",
              "      <td>610.28</td>\n",
              "      <td>1</td>\n",
              "      <td>NaN</td>\n",
              "      <td>NaN</td>\n",
              "    </tr>\n",
              "    <tr>\n",
              "      <th>2</th>\n",
              "      <td>0</td>\n",
              "      <td>50</td>\n",
              "      <td>0</td>\n",
              "      <td>0</td>\n",
              "      <td>Costa Mesa</td>\n",
              "      <td>92627</td>\n",
              "      <td>33.645672</td>\n",
              "      <td>-117.922613</td>\n",
              "      <td>0</td>\n",
              "      <td>4</td>\n",
              "      <td>...</td>\n",
              "      <td>1</td>\n",
              "      <td>73.9</td>\n",
              "      <td>280.85</td>\n",
              "      <td>0.00</td>\n",
              "      <td>0</td>\n",
              "      <td>134.60</td>\n",
              "      <td>415.45</td>\n",
              "      <td>2</td>\n",
              "      <td>1.0</td>\n",
              "      <td>1.0</td>\n",
              "    </tr>\n",
              "    <tr>\n",
              "      <th>3</th>\n",
              "      <td>0</td>\n",
              "      <td>78</td>\n",
              "      <td>1</td>\n",
              "      <td>0</td>\n",
              "      <td>Martinez</td>\n",
              "      <td>94553</td>\n",
              "      <td>38.014457</td>\n",
              "      <td>-122.115432</td>\n",
              "      <td>1</td>\n",
              "      <td>13</td>\n",
              "      <td>...</td>\n",
              "      <td>1</td>\n",
              "      <td>98.0</td>\n",
              "      <td>1237.85</td>\n",
              "      <td>0.00</td>\n",
              "      <td>0</td>\n",
              "      <td>361.66</td>\n",
              "      <td>1599.51</td>\n",
              "      <td>2</td>\n",
              "      <td>2.0</td>\n",
              "      <td>2.0</td>\n",
              "    </tr>\n",
              "    <tr>\n",
              "      <th>4</th>\n",
              "      <td>1</td>\n",
              "      <td>75</td>\n",
              "      <td>1</td>\n",
              "      <td>0</td>\n",
              "      <td>Camarillo</td>\n",
              "      <td>93010</td>\n",
              "      <td>34.227846</td>\n",
              "      <td>-119.079903</td>\n",
              "      <td>3</td>\n",
              "      <td>3</td>\n",
              "      <td>...</td>\n",
              "      <td>2</td>\n",
              "      <td>83.9</td>\n",
              "      <td>267.40</td>\n",
              "      <td>0.00</td>\n",
              "      <td>0</td>\n",
              "      <td>22.14</td>\n",
              "      <td>289.54</td>\n",
              "      <td>2</td>\n",
              "      <td>2.0</td>\n",
              "      <td>3.0</td>\n",
              "    </tr>\n",
              "  </tbody>\n",
              "</table>\n",
              "<p>5 rows × 37 columns</p>\n",
              "</div>\n",
              "      <button class=\"colab-df-convert\" onclick=\"convertToInteractive('df-28649981-f657-411a-9e75-f843e2df15af')\"\n",
              "              title=\"Convert this dataframe to an interactive table.\"\n",
              "              style=\"display:none;\">\n",
              "        \n",
              "  <svg xmlns=\"http://www.w3.org/2000/svg\" height=\"24px\"viewBox=\"0 0 24 24\"\n",
              "       width=\"24px\">\n",
              "    <path d=\"M0 0h24v24H0V0z\" fill=\"none\"/>\n",
              "    <path d=\"M18.56 5.44l.94 2.06.94-2.06 2.06-.94-2.06-.94-.94-2.06-.94 2.06-2.06.94zm-11 1L8.5 8.5l.94-2.06 2.06-.94-2.06-.94L8.5 2.5l-.94 2.06-2.06.94zm10 10l.94 2.06.94-2.06 2.06-.94-2.06-.94-.94-2.06-.94 2.06-2.06.94z\"/><path d=\"M17.41 7.96l-1.37-1.37c-.4-.4-.92-.59-1.43-.59-.52 0-1.04.2-1.43.59L10.3 9.45l-7.72 7.72c-.78.78-.78 2.05 0 2.83L4 21.41c.39.39.9.59 1.41.59.51 0 1.02-.2 1.41-.59l7.78-7.78 2.81-2.81c.8-.78.8-2.07 0-2.86zM5.41 20L4 18.59l7.72-7.72 1.47 1.35L5.41 20z\"/>\n",
              "  </svg>\n",
              "      </button>\n",
              "      \n",
              "  <style>\n",
              "    .colab-df-container {\n",
              "      display:flex;\n",
              "      flex-wrap:wrap;\n",
              "      gap: 12px;\n",
              "    }\n",
              "\n",
              "    .colab-df-convert {\n",
              "      background-color: #E8F0FE;\n",
              "      border: none;\n",
              "      border-radius: 50%;\n",
              "      cursor: pointer;\n",
              "      display: none;\n",
              "      fill: #1967D2;\n",
              "      height: 32px;\n",
              "      padding: 0 0 0 0;\n",
              "      width: 32px;\n",
              "    }\n",
              "\n",
              "    .colab-df-convert:hover {\n",
              "      background-color: #E2EBFA;\n",
              "      box-shadow: 0px 1px 2px rgba(60, 64, 67, 0.3), 0px 1px 3px 1px rgba(60, 64, 67, 0.15);\n",
              "      fill: #174EA6;\n",
              "    }\n",
              "\n",
              "    [theme=dark] .colab-df-convert {\n",
              "      background-color: #3B4455;\n",
              "      fill: #D2E3FC;\n",
              "    }\n",
              "\n",
              "    [theme=dark] .colab-df-convert:hover {\n",
              "      background-color: #434B5C;\n",
              "      box-shadow: 0px 1px 3px 1px rgba(0, 0, 0, 0.15);\n",
              "      filter: drop-shadow(0px 1px 2px rgba(0, 0, 0, 0.3));\n",
              "      fill: #FFFFFF;\n",
              "    }\n",
              "  </style>\n",
              "\n",
              "      <script>\n",
              "        const buttonEl =\n",
              "          document.querySelector('#df-28649981-f657-411a-9e75-f843e2df15af button.colab-df-convert');\n",
              "        buttonEl.style.display =\n",
              "          google.colab.kernel.accessAllowed ? 'block' : 'none';\n",
              "\n",
              "        async function convertToInteractive(key) {\n",
              "          const element = document.querySelector('#df-28649981-f657-411a-9e75-f843e2df15af');\n",
              "          const dataTable =\n",
              "            await google.colab.kernel.invokeFunction('convertToInteractive',\n",
              "                                                     [key], {});\n",
              "          if (!dataTable) return;\n",
              "\n",
              "          const docLinkHtml = 'Like what you see? Visit the ' +\n",
              "            '<a target=\"_blank\" href=https://colab.research.google.com/notebooks/data_table.ipynb>data table notebook</a>'\n",
              "            + ' to learn more about interactive tables.';\n",
              "          element.innerHTML = '';\n",
              "          dataTable['output_type'] = 'display_data';\n",
              "          await google.colab.output.renderOutput(dataTable, element);\n",
              "          const docLink = document.createElement('div');\n",
              "          docLink.innerHTML = docLinkHtml;\n",
              "          element.appendChild(docLink);\n",
              "        }\n",
              "      </script>\n",
              "    </div>\n",
              "  </div>\n",
              "  "
            ]
          },
          "metadata": {},
          "execution_count": 35
        }
      ]
    },
    {
      "cell_type": "code",
      "source": [
        "df.dtypes"
      ],
      "metadata": {
        "id": "ba2D-vqtrFh2",
        "outputId": "fb15438b-a77c-4afd-d15b-884b1c063fe2",
        "execution": {
          "iopub.status.busy": "2022-08-11T02:51:10.896393Z",
          "iopub.execute_input": "2022-08-11T02:51:10.896915Z",
          "iopub.status.idle": "2022-08-11T02:51:10.906216Z",
          "shell.execute_reply.started": "2022-08-11T02:51:10.896882Z",
          "shell.execute_reply": "2022-08-11T02:51:10.904825Z"
        },
        "trusted": true,
        "colab": {
          "base_uri": "https://localhost:8080/"
        }
      },
      "execution_count": null,
      "outputs": [
        {
          "output_type": "execute_result",
          "data": {
            "text/plain": [
              "Gender                                 int64\n",
              "Age                                    int64\n",
              "Married                                int64\n",
              "Number of Dependents                   int64\n",
              "City                                  object\n",
              "Zip Code                               int64\n",
              "Latitude                             float64\n",
              "Longitude                            float64\n",
              "Number of Referrals                    int64\n",
              "Tenure in Months                       int64\n",
              "Offer                                  int64\n",
              "Phone Service                          int64\n",
              "Avg Monthly Long Distance Charges    float64\n",
              "Multiple Lines                         int64\n",
              "Internet Service                       int64\n",
              "Internet Type                          int64\n",
              "Avg Monthly GB Download              float64\n",
              "Online Security                        int64\n",
              "Online Backup                          int64\n",
              "Device Protection Plan                 int64\n",
              "Premium Tech Support                   int64\n",
              "Streaming TV                           int64\n",
              "Streaming Movies                       int64\n",
              "Streaming Music                        int64\n",
              "Unlimited Data                         int64\n",
              "Contract                               int64\n",
              "Paperless Billing                      int64\n",
              "Payment Method                         int64\n",
              "Monthly Charge                       float64\n",
              "Total Charges                        float64\n",
              "Total Refunds                        float64\n",
              "Total Extra Data Charges               int64\n",
              "Total Long Distance Charges          float64\n",
              "Total Revenue                        float64\n",
              "Customer Status                        int64\n",
              "Churn Category                       float64\n",
              "Churn Reason                         float64\n",
              "dtype: object"
            ]
          },
          "metadata": {},
          "execution_count": 36
        }
      ]
    },
    {
      "cell_type": "markdown",
      "source": [
        "There are 682 missing values in avg monthly long distance charges and 1562 in avg monthly GB downloads."
      ],
      "metadata": {
        "id": "YYse42WtsCRT"
      }
    },
    {
      "cell_type": "code",
      "source": [
        "# filling the null values with the mean\n",
        "value = df['Avg Monthly Long Distance Charges'].mean()\n",
        "values = df['Avg Monthly GB Download'].mean()\n",
        "val1 = df['Churn Category'].mean()\n",
        "val2 = df['Churn Reason'].mean()"
      ],
      "metadata": {
        "id": "b0K1l7dJrlAJ",
        "execution": {
          "iopub.status.busy": "2022-08-11T02:51:10.908266Z",
          "iopub.execute_input": "2022-08-11T02:51:10.908744Z",
          "iopub.status.idle": "2022-08-11T02:51:10.918403Z",
          "shell.execute_reply.started": "2022-08-11T02:51:10.908686Z",
          "shell.execute_reply": "2022-08-11T02:51:10.917284Z"
        },
        "trusted": true
      },
      "execution_count": null,
      "outputs": []
    },
    {
      "cell_type": "code",
      "source": [
        "df['Avg Monthly Long Distance Charges'].fillna(value = value, inplace = True)"
      ],
      "metadata": {
        "id": "1qPyVEi5ssM3",
        "execution": {
          "iopub.status.busy": "2022-08-11T02:51:10.919615Z",
          "iopub.execute_input": "2022-08-11T02:51:10.920822Z",
          "iopub.status.idle": "2022-08-11T02:51:10.929016Z",
          "shell.execute_reply.started": "2022-08-11T02:51:10.920776Z",
          "shell.execute_reply": "2022-08-11T02:51:10.927903Z"
        },
        "trusted": true
      },
      "execution_count": null,
      "outputs": []
    },
    {
      "cell_type": "code",
      "source": [
        "df['Avg Monthly GB Download'].fillna(value = values, inplace = True)"
      ],
      "metadata": {
        "id": "ZDXd9nhKs0vi",
        "execution": {
          "iopub.status.busy": "2022-08-11T02:51:10.930456Z",
          "iopub.execute_input": "2022-08-11T02:51:10.931071Z",
          "iopub.status.idle": "2022-08-11T02:51:10.943457Z",
          "shell.execute_reply.started": "2022-08-11T02:51:10.931037Z",
          "shell.execute_reply": "2022-08-11T02:51:10.942577Z"
        },
        "trusted": true
      },
      "execution_count": null,
      "outputs": []
    },
    {
      "cell_type": "code",
      "source": [
        "df['Churn Category'].fillna(value = val1, inplace = True)"
      ],
      "metadata": {
        "id": "XR9jX9LftWEa",
        "execution": {
          "iopub.status.busy": "2022-08-11T02:51:10.944815Z",
          "iopub.execute_input": "2022-08-11T02:51:10.945384Z",
          "iopub.status.idle": "2022-08-11T02:51:10.956575Z",
          "shell.execute_reply.started": "2022-08-11T02:51:10.945351Z",
          "shell.execute_reply": "2022-08-11T02:51:10.955756Z"
        },
        "trusted": true
      },
      "execution_count": null,
      "outputs": []
    },
    {
      "cell_type": "code",
      "source": [
        "df['Churn Reason'].fillna(value = val2, inplace = True)"
      ],
      "metadata": {
        "id": "3KG6Gl5etXbk",
        "execution": {
          "iopub.status.busy": "2022-08-11T02:51:10.957914Z",
          "iopub.execute_input": "2022-08-11T02:51:10.958883Z",
          "iopub.status.idle": "2022-08-11T02:51:10.971170Z",
          "shell.execute_reply.started": "2022-08-11T02:51:10.958850Z",
          "shell.execute_reply": "2022-08-11T02:51:10.969666Z"
        },
        "trusted": true
      },
      "execution_count": null,
      "outputs": []
    },
    {
      "cell_type": "code",
      "source": [
        "#lets check if the null values were filled\n",
        "df.isnull().sum()"
      ],
      "metadata": {
        "id": "35voL0hZs8cD",
        "outputId": "d5a1615f-0b46-46ba-992c-2ea972038d56",
        "execution": {
          "iopub.status.busy": "2022-08-11T02:51:10.973093Z",
          "iopub.execute_input": "2022-08-11T02:51:10.973442Z",
          "iopub.status.idle": "2022-08-11T02:51:10.989211Z",
          "shell.execute_reply.started": "2022-08-11T02:51:10.973410Z",
          "shell.execute_reply": "2022-08-11T02:51:10.988240Z"
        },
        "trusted": true,
        "colab": {
          "base_uri": "https://localhost:8080/"
        }
      },
      "execution_count": null,
      "outputs": [
        {
          "output_type": "execute_result",
          "data": {
            "text/plain": [
              "Gender                               0\n",
              "Age                                  0\n",
              "Married                              0\n",
              "Number of Dependents                 0\n",
              "City                                 0\n",
              "Zip Code                             0\n",
              "Latitude                             0\n",
              "Longitude                            0\n",
              "Number of Referrals                  0\n",
              "Tenure in Months                     0\n",
              "Offer                                0\n",
              "Phone Service                        0\n",
              "Avg Monthly Long Distance Charges    0\n",
              "Multiple Lines                       0\n",
              "Internet Service                     0\n",
              "Internet Type                        0\n",
              "Avg Monthly GB Download              0\n",
              "Online Security                      0\n",
              "Online Backup                        0\n",
              "Device Protection Plan               0\n",
              "Premium Tech Support                 0\n",
              "Streaming TV                         0\n",
              "Streaming Movies                     0\n",
              "Streaming Music                      0\n",
              "Unlimited Data                       0\n",
              "Contract                             0\n",
              "Paperless Billing                    0\n",
              "Payment Method                       0\n",
              "Monthly Charge                       0\n",
              "Total Charges                        0\n",
              "Total Refunds                        0\n",
              "Total Extra Data Charges             0\n",
              "Total Long Distance Charges          0\n",
              "Total Revenue                        0\n",
              "Customer Status                      0\n",
              "Churn Category                       0\n",
              "Churn Reason                         0\n",
              "dtype: int64"
            ]
          },
          "metadata": {},
          "execution_count": 42
        }
      ]
    },
    {
      "cell_type": "code",
      "source": [
        "df.head(5)"
      ],
      "metadata": {
        "id": "y7rGr7WKtDjv",
        "outputId": "f9ab8d0f-d5c7-465b-b96d-96c90e91fe91",
        "execution": {
          "iopub.status.busy": "2022-08-11T02:51:10.990444Z",
          "iopub.execute_input": "2022-08-11T02:51:10.991352Z",
          "iopub.status.idle": "2022-08-11T02:51:11.021057Z",
          "shell.execute_reply.started": "2022-08-11T02:51:10.991319Z",
          "shell.execute_reply": "2022-08-11T02:51:11.019798Z"
        },
        "trusted": true,
        "colab": {
          "base_uri": "https://localhost:8080/",
          "height": 386
        }
      },
      "execution_count": null,
      "outputs": [
        {
          "output_type": "execute_result",
          "data": {
            "text/plain": [
              "   Gender  Age  Married  Number of Dependents          City  Zip Code  \\\n",
              "0       1   37        1                     0  Frazier Park     93225   \n",
              "1       0   46        0                     0      Glendale     91206   \n",
              "2       0   50        0                     0    Costa Mesa     92627   \n",
              "3       0   78        1                     0      Martinez     94553   \n",
              "4       1   75        1                     0     Camarillo     93010   \n",
              "\n",
              "    Latitude   Longitude  Number of Referrals  Tenure in Months  ...  \\\n",
              "0  34.827662 -118.999073                    2                 9  ...   \n",
              "1  34.162515 -118.203869                    0                 9  ...   \n",
              "2  33.645672 -117.922613                    0                 4  ...   \n",
              "3  38.014457 -122.115432                    1                13  ...   \n",
              "4  34.227846 -119.079903                    3                 3  ...   \n",
              "\n",
              "   Payment Method  Monthly Charge  Total Charges  Total Refunds  \\\n",
              "0               2            65.6         593.30           0.00   \n",
              "1               2            -4.0         542.40          38.33   \n",
              "2               1            73.9         280.85           0.00   \n",
              "3               1            98.0        1237.85           0.00   \n",
              "4               2            83.9         267.40           0.00   \n",
              "\n",
              "   Total Extra Data Charges  Total Long Distance Charges  Total Revenue  \\\n",
              "0                         0                       381.51         974.81   \n",
              "1                        10                        96.21         610.28   \n",
              "2                         0                       134.60         415.45   \n",
              "3                         0                       361.66        1599.51   \n",
              "4                         0                        22.14         289.54   \n",
              "\n",
              "   Customer Status  Churn Category  Churn Reason  \n",
              "0                1        2.235955      7.458534  \n",
              "1                1        2.235955      7.458534  \n",
              "2                2        1.000000      1.000000  \n",
              "3                2        2.000000      2.000000  \n",
              "4                2        2.000000      3.000000  \n",
              "\n",
              "[5 rows x 37 columns]"
            ],
            "text/html": [
              "\n",
              "  <div id=\"df-fa5a7df9-8eea-420b-aace-b22811d13a19\">\n",
              "    <div class=\"colab-df-container\">\n",
              "      <div>\n",
              "<style scoped>\n",
              "    .dataframe tbody tr th:only-of-type {\n",
              "        vertical-align: middle;\n",
              "    }\n",
              "\n",
              "    .dataframe tbody tr th {\n",
              "        vertical-align: top;\n",
              "    }\n",
              "\n",
              "    .dataframe thead th {\n",
              "        text-align: right;\n",
              "    }\n",
              "</style>\n",
              "<table border=\"1\" class=\"dataframe\">\n",
              "  <thead>\n",
              "    <tr style=\"text-align: right;\">\n",
              "      <th></th>\n",
              "      <th>Gender</th>\n",
              "      <th>Age</th>\n",
              "      <th>Married</th>\n",
              "      <th>Number of Dependents</th>\n",
              "      <th>City</th>\n",
              "      <th>Zip Code</th>\n",
              "      <th>Latitude</th>\n",
              "      <th>Longitude</th>\n",
              "      <th>Number of Referrals</th>\n",
              "      <th>Tenure in Months</th>\n",
              "      <th>...</th>\n",
              "      <th>Payment Method</th>\n",
              "      <th>Monthly Charge</th>\n",
              "      <th>Total Charges</th>\n",
              "      <th>Total Refunds</th>\n",
              "      <th>Total Extra Data Charges</th>\n",
              "      <th>Total Long Distance Charges</th>\n",
              "      <th>Total Revenue</th>\n",
              "      <th>Customer Status</th>\n",
              "      <th>Churn Category</th>\n",
              "      <th>Churn Reason</th>\n",
              "    </tr>\n",
              "  </thead>\n",
              "  <tbody>\n",
              "    <tr>\n",
              "      <th>0</th>\n",
              "      <td>1</td>\n",
              "      <td>37</td>\n",
              "      <td>1</td>\n",
              "      <td>0</td>\n",
              "      <td>Frazier Park</td>\n",
              "      <td>93225</td>\n",
              "      <td>34.827662</td>\n",
              "      <td>-118.999073</td>\n",
              "      <td>2</td>\n",
              "      <td>9</td>\n",
              "      <td>...</td>\n",
              "      <td>2</td>\n",
              "      <td>65.6</td>\n",
              "      <td>593.30</td>\n",
              "      <td>0.00</td>\n",
              "      <td>0</td>\n",
              "      <td>381.51</td>\n",
              "      <td>974.81</td>\n",
              "      <td>1</td>\n",
              "      <td>2.235955</td>\n",
              "      <td>7.458534</td>\n",
              "    </tr>\n",
              "    <tr>\n",
              "      <th>1</th>\n",
              "      <td>0</td>\n",
              "      <td>46</td>\n",
              "      <td>0</td>\n",
              "      <td>0</td>\n",
              "      <td>Glendale</td>\n",
              "      <td>91206</td>\n",
              "      <td>34.162515</td>\n",
              "      <td>-118.203869</td>\n",
              "      <td>0</td>\n",
              "      <td>9</td>\n",
              "      <td>...</td>\n",
              "      <td>2</td>\n",
              "      <td>-4.0</td>\n",
              "      <td>542.40</td>\n",
              "      <td>38.33</td>\n",
              "      <td>10</td>\n",
              "      <td>96.21</td>\n",
              "      <td>610.28</td>\n",
              "      <td>1</td>\n",
              "      <td>2.235955</td>\n",
              "      <td>7.458534</td>\n",
              "    </tr>\n",
              "    <tr>\n",
              "      <th>2</th>\n",
              "      <td>0</td>\n",
              "      <td>50</td>\n",
              "      <td>0</td>\n",
              "      <td>0</td>\n",
              "      <td>Costa Mesa</td>\n",
              "      <td>92627</td>\n",
              "      <td>33.645672</td>\n",
              "      <td>-117.922613</td>\n",
              "      <td>0</td>\n",
              "      <td>4</td>\n",
              "      <td>...</td>\n",
              "      <td>1</td>\n",
              "      <td>73.9</td>\n",
              "      <td>280.85</td>\n",
              "      <td>0.00</td>\n",
              "      <td>0</td>\n",
              "      <td>134.60</td>\n",
              "      <td>415.45</td>\n",
              "      <td>2</td>\n",
              "      <td>1.000000</td>\n",
              "      <td>1.000000</td>\n",
              "    </tr>\n",
              "    <tr>\n",
              "      <th>3</th>\n",
              "      <td>0</td>\n",
              "      <td>78</td>\n",
              "      <td>1</td>\n",
              "      <td>0</td>\n",
              "      <td>Martinez</td>\n",
              "      <td>94553</td>\n",
              "      <td>38.014457</td>\n",
              "      <td>-122.115432</td>\n",
              "      <td>1</td>\n",
              "      <td>13</td>\n",
              "      <td>...</td>\n",
              "      <td>1</td>\n",
              "      <td>98.0</td>\n",
              "      <td>1237.85</td>\n",
              "      <td>0.00</td>\n",
              "      <td>0</td>\n",
              "      <td>361.66</td>\n",
              "      <td>1599.51</td>\n",
              "      <td>2</td>\n",
              "      <td>2.000000</td>\n",
              "      <td>2.000000</td>\n",
              "    </tr>\n",
              "    <tr>\n",
              "      <th>4</th>\n",
              "      <td>1</td>\n",
              "      <td>75</td>\n",
              "      <td>1</td>\n",
              "      <td>0</td>\n",
              "      <td>Camarillo</td>\n",
              "      <td>93010</td>\n",
              "      <td>34.227846</td>\n",
              "      <td>-119.079903</td>\n",
              "      <td>3</td>\n",
              "      <td>3</td>\n",
              "      <td>...</td>\n",
              "      <td>2</td>\n",
              "      <td>83.9</td>\n",
              "      <td>267.40</td>\n",
              "      <td>0.00</td>\n",
              "      <td>0</td>\n",
              "      <td>22.14</td>\n",
              "      <td>289.54</td>\n",
              "      <td>2</td>\n",
              "      <td>2.000000</td>\n",
              "      <td>3.000000</td>\n",
              "    </tr>\n",
              "  </tbody>\n",
              "</table>\n",
              "<p>5 rows × 37 columns</p>\n",
              "</div>\n",
              "      <button class=\"colab-df-convert\" onclick=\"convertToInteractive('df-fa5a7df9-8eea-420b-aace-b22811d13a19')\"\n",
              "              title=\"Convert this dataframe to an interactive table.\"\n",
              "              style=\"display:none;\">\n",
              "        \n",
              "  <svg xmlns=\"http://www.w3.org/2000/svg\" height=\"24px\"viewBox=\"0 0 24 24\"\n",
              "       width=\"24px\">\n",
              "    <path d=\"M0 0h24v24H0V0z\" fill=\"none\"/>\n",
              "    <path d=\"M18.56 5.44l.94 2.06.94-2.06 2.06-.94-2.06-.94-.94-2.06-.94 2.06-2.06.94zm-11 1L8.5 8.5l.94-2.06 2.06-.94-2.06-.94L8.5 2.5l-.94 2.06-2.06.94zm10 10l.94 2.06.94-2.06 2.06-.94-2.06-.94-.94-2.06-.94 2.06-2.06.94z\"/><path d=\"M17.41 7.96l-1.37-1.37c-.4-.4-.92-.59-1.43-.59-.52 0-1.04.2-1.43.59L10.3 9.45l-7.72 7.72c-.78.78-.78 2.05 0 2.83L4 21.41c.39.39.9.59 1.41.59.51 0 1.02-.2 1.41-.59l7.78-7.78 2.81-2.81c.8-.78.8-2.07 0-2.86zM5.41 20L4 18.59l7.72-7.72 1.47 1.35L5.41 20z\"/>\n",
              "  </svg>\n",
              "      </button>\n",
              "      \n",
              "  <style>\n",
              "    .colab-df-container {\n",
              "      display:flex;\n",
              "      flex-wrap:wrap;\n",
              "      gap: 12px;\n",
              "    }\n",
              "\n",
              "    .colab-df-convert {\n",
              "      background-color: #E8F0FE;\n",
              "      border: none;\n",
              "      border-radius: 50%;\n",
              "      cursor: pointer;\n",
              "      display: none;\n",
              "      fill: #1967D2;\n",
              "      height: 32px;\n",
              "      padding: 0 0 0 0;\n",
              "      width: 32px;\n",
              "    }\n",
              "\n",
              "    .colab-df-convert:hover {\n",
              "      background-color: #E2EBFA;\n",
              "      box-shadow: 0px 1px 2px rgba(60, 64, 67, 0.3), 0px 1px 3px 1px rgba(60, 64, 67, 0.15);\n",
              "      fill: #174EA6;\n",
              "    }\n",
              "\n",
              "    [theme=dark] .colab-df-convert {\n",
              "      background-color: #3B4455;\n",
              "      fill: #D2E3FC;\n",
              "    }\n",
              "\n",
              "    [theme=dark] .colab-df-convert:hover {\n",
              "      background-color: #434B5C;\n",
              "      box-shadow: 0px 1px 3px 1px rgba(0, 0, 0, 0.15);\n",
              "      filter: drop-shadow(0px 1px 2px rgba(0, 0, 0, 0.3));\n",
              "      fill: #FFFFFF;\n",
              "    }\n",
              "  </style>\n",
              "\n",
              "      <script>\n",
              "        const buttonEl =\n",
              "          document.querySelector('#df-fa5a7df9-8eea-420b-aace-b22811d13a19 button.colab-df-convert');\n",
              "        buttonEl.style.display =\n",
              "          google.colab.kernel.accessAllowed ? 'block' : 'none';\n",
              "\n",
              "        async function convertToInteractive(key) {\n",
              "          const element = document.querySelector('#df-fa5a7df9-8eea-420b-aace-b22811d13a19');\n",
              "          const dataTable =\n",
              "            await google.colab.kernel.invokeFunction('convertToInteractive',\n",
              "                                                     [key], {});\n",
              "          if (!dataTable) return;\n",
              "\n",
              "          const docLinkHtml = 'Like what you see? Visit the ' +\n",
              "            '<a target=\"_blank\" href=https://colab.research.google.com/notebooks/data_table.ipynb>data table notebook</a>'\n",
              "            + ' to learn more about interactive tables.';\n",
              "          element.innerHTML = '';\n",
              "          dataTable['output_type'] = 'display_data';\n",
              "          await google.colab.output.renderOutput(dataTable, element);\n",
              "          const docLink = document.createElement('div');\n",
              "          docLink.innerHTML = docLinkHtml;\n",
              "          element.appendChild(docLink);\n",
              "        }\n",
              "      </script>\n",
              "    </div>\n",
              "  </div>\n",
              "  "
            ]
          },
          "metadata": {},
          "execution_count": 43
        }
      ]
    },
    {
      "cell_type": "code",
      "source": [
        "df.drop('City', axis = 1, inplace = True)"
      ],
      "metadata": {
        "id": "JDmCEr2Att75",
        "execution": {
          "iopub.status.busy": "2022-08-11T02:51:11.022873Z",
          "iopub.execute_input": "2022-08-11T02:51:11.023329Z",
          "iopub.status.idle": "2022-08-11T02:51:11.032233Z",
          "shell.execute_reply.started": "2022-08-11T02:51:11.023288Z",
          "shell.execute_reply": "2022-08-11T02:51:11.030940Z"
        },
        "trusted": true
      },
      "execution_count": null,
      "outputs": []
    },
    {
      "cell_type": "code",
      "source": [
        "x = df.drop('Customer Status', axis = 1)"
      ],
      "metadata": {
        "id": "60VbL5W-ubLm",
        "execution": {
          "iopub.status.busy": "2022-08-11T02:51:11.033946Z",
          "iopub.execute_input": "2022-08-11T02:51:11.034448Z",
          "iopub.status.idle": "2022-08-11T02:51:11.043507Z",
          "shell.execute_reply.started": "2022-08-11T02:51:11.034416Z",
          "shell.execute_reply": "2022-08-11T02:51:11.042259Z"
        },
        "trusted": true
      },
      "execution_count": null,
      "outputs": []
    },
    {
      "cell_type": "code",
      "source": [
        "x.head()"
      ],
      "metadata": {
        "id": "2QtSQK0oupp4",
        "outputId": "b284c074-3435-4849-c81d-022e24e36d82",
        "execution": {
          "iopub.status.busy": "2022-08-11T02:51:11.044899Z",
          "iopub.execute_input": "2022-08-11T02:51:11.045242Z",
          "iopub.status.idle": "2022-08-11T02:51:11.078890Z",
          "shell.execute_reply.started": "2022-08-11T02:51:11.045212Z",
          "shell.execute_reply": "2022-08-11T02:51:11.077625Z"
        },
        "trusted": true,
        "colab": {
          "base_uri": "https://localhost:8080/",
          "height": 352
        }
      },
      "execution_count": null,
      "outputs": [
        {
          "output_type": "execute_result",
          "data": {
            "text/plain": [
              "   Gender  Age  Married  Number of Dependents  Zip Code   Latitude  \\\n",
              "0       1   37        1                     0     93225  34.827662   \n",
              "1       0   46        0                     0     91206  34.162515   \n",
              "2       0   50        0                     0     92627  33.645672   \n",
              "3       0   78        1                     0     94553  38.014457   \n",
              "4       1   75        1                     0     93010  34.227846   \n",
              "\n",
              "    Longitude  Number of Referrals  Tenure in Months  Offer  ...  \\\n",
              "0 -118.999073                    2                 9      0  ...   \n",
              "1 -118.203869                    0                 9      0  ...   \n",
              "2 -117.922613                    0                 4      1  ...   \n",
              "3 -122.115432                    1                13      2  ...   \n",
              "4 -119.079903                    3                 3      0  ...   \n",
              "\n",
              "   Paperless Billing  Payment Method  Monthly Charge  Total Charges  \\\n",
              "0                  1               2            65.6         593.30   \n",
              "1                  0               2            -4.0         542.40   \n",
              "2                  1               1            73.9         280.85   \n",
              "3                  1               1            98.0        1237.85   \n",
              "4                  1               2            83.9         267.40   \n",
              "\n",
              "   Total Refunds  Total Extra Data Charges  Total Long Distance Charges  \\\n",
              "0           0.00                         0                       381.51   \n",
              "1          38.33                        10                        96.21   \n",
              "2           0.00                         0                       134.60   \n",
              "3           0.00                         0                       361.66   \n",
              "4           0.00                         0                        22.14   \n",
              "\n",
              "   Total Revenue  Churn Category  Churn Reason  \n",
              "0         974.81        2.235955      7.458534  \n",
              "1         610.28        2.235955      7.458534  \n",
              "2         415.45        1.000000      1.000000  \n",
              "3        1599.51        2.000000      2.000000  \n",
              "4         289.54        2.000000      3.000000  \n",
              "\n",
              "[5 rows x 35 columns]"
            ],
            "text/html": [
              "\n",
              "  <div id=\"df-ac172d93-7907-4a20-9565-d3de955478d7\">\n",
              "    <div class=\"colab-df-container\">\n",
              "      <div>\n",
              "<style scoped>\n",
              "    .dataframe tbody tr th:only-of-type {\n",
              "        vertical-align: middle;\n",
              "    }\n",
              "\n",
              "    .dataframe tbody tr th {\n",
              "        vertical-align: top;\n",
              "    }\n",
              "\n",
              "    .dataframe thead th {\n",
              "        text-align: right;\n",
              "    }\n",
              "</style>\n",
              "<table border=\"1\" class=\"dataframe\">\n",
              "  <thead>\n",
              "    <tr style=\"text-align: right;\">\n",
              "      <th></th>\n",
              "      <th>Gender</th>\n",
              "      <th>Age</th>\n",
              "      <th>Married</th>\n",
              "      <th>Number of Dependents</th>\n",
              "      <th>Zip Code</th>\n",
              "      <th>Latitude</th>\n",
              "      <th>Longitude</th>\n",
              "      <th>Number of Referrals</th>\n",
              "      <th>Tenure in Months</th>\n",
              "      <th>Offer</th>\n",
              "      <th>...</th>\n",
              "      <th>Paperless Billing</th>\n",
              "      <th>Payment Method</th>\n",
              "      <th>Monthly Charge</th>\n",
              "      <th>Total Charges</th>\n",
              "      <th>Total Refunds</th>\n",
              "      <th>Total Extra Data Charges</th>\n",
              "      <th>Total Long Distance Charges</th>\n",
              "      <th>Total Revenue</th>\n",
              "      <th>Churn Category</th>\n",
              "      <th>Churn Reason</th>\n",
              "    </tr>\n",
              "  </thead>\n",
              "  <tbody>\n",
              "    <tr>\n",
              "      <th>0</th>\n",
              "      <td>1</td>\n",
              "      <td>37</td>\n",
              "      <td>1</td>\n",
              "      <td>0</td>\n",
              "      <td>93225</td>\n",
              "      <td>34.827662</td>\n",
              "      <td>-118.999073</td>\n",
              "      <td>2</td>\n",
              "      <td>9</td>\n",
              "      <td>0</td>\n",
              "      <td>...</td>\n",
              "      <td>1</td>\n",
              "      <td>2</td>\n",
              "      <td>65.6</td>\n",
              "      <td>593.30</td>\n",
              "      <td>0.00</td>\n",
              "      <td>0</td>\n",
              "      <td>381.51</td>\n",
              "      <td>974.81</td>\n",
              "      <td>2.235955</td>\n",
              "      <td>7.458534</td>\n",
              "    </tr>\n",
              "    <tr>\n",
              "      <th>1</th>\n",
              "      <td>0</td>\n",
              "      <td>46</td>\n",
              "      <td>0</td>\n",
              "      <td>0</td>\n",
              "      <td>91206</td>\n",
              "      <td>34.162515</td>\n",
              "      <td>-118.203869</td>\n",
              "      <td>0</td>\n",
              "      <td>9</td>\n",
              "      <td>0</td>\n",
              "      <td>...</td>\n",
              "      <td>0</td>\n",
              "      <td>2</td>\n",
              "      <td>-4.0</td>\n",
              "      <td>542.40</td>\n",
              "      <td>38.33</td>\n",
              "      <td>10</td>\n",
              "      <td>96.21</td>\n",
              "      <td>610.28</td>\n",
              "      <td>2.235955</td>\n",
              "      <td>7.458534</td>\n",
              "    </tr>\n",
              "    <tr>\n",
              "      <th>2</th>\n",
              "      <td>0</td>\n",
              "      <td>50</td>\n",
              "      <td>0</td>\n",
              "      <td>0</td>\n",
              "      <td>92627</td>\n",
              "      <td>33.645672</td>\n",
              "      <td>-117.922613</td>\n",
              "      <td>0</td>\n",
              "      <td>4</td>\n",
              "      <td>1</td>\n",
              "      <td>...</td>\n",
              "      <td>1</td>\n",
              "      <td>1</td>\n",
              "      <td>73.9</td>\n",
              "      <td>280.85</td>\n",
              "      <td>0.00</td>\n",
              "      <td>0</td>\n",
              "      <td>134.60</td>\n",
              "      <td>415.45</td>\n",
              "      <td>1.000000</td>\n",
              "      <td>1.000000</td>\n",
              "    </tr>\n",
              "    <tr>\n",
              "      <th>3</th>\n",
              "      <td>0</td>\n",
              "      <td>78</td>\n",
              "      <td>1</td>\n",
              "      <td>0</td>\n",
              "      <td>94553</td>\n",
              "      <td>38.014457</td>\n",
              "      <td>-122.115432</td>\n",
              "      <td>1</td>\n",
              "      <td>13</td>\n",
              "      <td>2</td>\n",
              "      <td>...</td>\n",
              "      <td>1</td>\n",
              "      <td>1</td>\n",
              "      <td>98.0</td>\n",
              "      <td>1237.85</td>\n",
              "      <td>0.00</td>\n",
              "      <td>0</td>\n",
              "      <td>361.66</td>\n",
              "      <td>1599.51</td>\n",
              "      <td>2.000000</td>\n",
              "      <td>2.000000</td>\n",
              "    </tr>\n",
              "    <tr>\n",
              "      <th>4</th>\n",
              "      <td>1</td>\n",
              "      <td>75</td>\n",
              "      <td>1</td>\n",
              "      <td>0</td>\n",
              "      <td>93010</td>\n",
              "      <td>34.227846</td>\n",
              "      <td>-119.079903</td>\n",
              "      <td>3</td>\n",
              "      <td>3</td>\n",
              "      <td>0</td>\n",
              "      <td>...</td>\n",
              "      <td>1</td>\n",
              "      <td>2</td>\n",
              "      <td>83.9</td>\n",
              "      <td>267.40</td>\n",
              "      <td>0.00</td>\n",
              "      <td>0</td>\n",
              "      <td>22.14</td>\n",
              "      <td>289.54</td>\n",
              "      <td>2.000000</td>\n",
              "      <td>3.000000</td>\n",
              "    </tr>\n",
              "  </tbody>\n",
              "</table>\n",
              "<p>5 rows × 35 columns</p>\n",
              "</div>\n",
              "      <button class=\"colab-df-convert\" onclick=\"convertToInteractive('df-ac172d93-7907-4a20-9565-d3de955478d7')\"\n",
              "              title=\"Convert this dataframe to an interactive table.\"\n",
              "              style=\"display:none;\">\n",
              "        \n",
              "  <svg xmlns=\"http://www.w3.org/2000/svg\" height=\"24px\"viewBox=\"0 0 24 24\"\n",
              "       width=\"24px\">\n",
              "    <path d=\"M0 0h24v24H0V0z\" fill=\"none\"/>\n",
              "    <path d=\"M18.56 5.44l.94 2.06.94-2.06 2.06-.94-2.06-.94-.94-2.06-.94 2.06-2.06.94zm-11 1L8.5 8.5l.94-2.06 2.06-.94-2.06-.94L8.5 2.5l-.94 2.06-2.06.94zm10 10l.94 2.06.94-2.06 2.06-.94-2.06-.94-.94-2.06-.94 2.06-2.06.94z\"/><path d=\"M17.41 7.96l-1.37-1.37c-.4-.4-.92-.59-1.43-.59-.52 0-1.04.2-1.43.59L10.3 9.45l-7.72 7.72c-.78.78-.78 2.05 0 2.83L4 21.41c.39.39.9.59 1.41.59.51 0 1.02-.2 1.41-.59l7.78-7.78 2.81-2.81c.8-.78.8-2.07 0-2.86zM5.41 20L4 18.59l7.72-7.72 1.47 1.35L5.41 20z\"/>\n",
              "  </svg>\n",
              "      </button>\n",
              "      \n",
              "  <style>\n",
              "    .colab-df-container {\n",
              "      display:flex;\n",
              "      flex-wrap:wrap;\n",
              "      gap: 12px;\n",
              "    }\n",
              "\n",
              "    .colab-df-convert {\n",
              "      background-color: #E8F0FE;\n",
              "      border: none;\n",
              "      border-radius: 50%;\n",
              "      cursor: pointer;\n",
              "      display: none;\n",
              "      fill: #1967D2;\n",
              "      height: 32px;\n",
              "      padding: 0 0 0 0;\n",
              "      width: 32px;\n",
              "    }\n",
              "\n",
              "    .colab-df-convert:hover {\n",
              "      background-color: #E2EBFA;\n",
              "      box-shadow: 0px 1px 2px rgba(60, 64, 67, 0.3), 0px 1px 3px 1px rgba(60, 64, 67, 0.15);\n",
              "      fill: #174EA6;\n",
              "    }\n",
              "\n",
              "    [theme=dark] .colab-df-convert {\n",
              "      background-color: #3B4455;\n",
              "      fill: #D2E3FC;\n",
              "    }\n",
              "\n",
              "    [theme=dark] .colab-df-convert:hover {\n",
              "      background-color: #434B5C;\n",
              "      box-shadow: 0px 1px 3px 1px rgba(0, 0, 0, 0.15);\n",
              "      filter: drop-shadow(0px 1px 2px rgba(0, 0, 0, 0.3));\n",
              "      fill: #FFFFFF;\n",
              "    }\n",
              "  </style>\n",
              "\n",
              "      <script>\n",
              "        const buttonEl =\n",
              "          document.querySelector('#df-ac172d93-7907-4a20-9565-d3de955478d7 button.colab-df-convert');\n",
              "        buttonEl.style.display =\n",
              "          google.colab.kernel.accessAllowed ? 'block' : 'none';\n",
              "\n",
              "        async function convertToInteractive(key) {\n",
              "          const element = document.querySelector('#df-ac172d93-7907-4a20-9565-d3de955478d7');\n",
              "          const dataTable =\n",
              "            await google.colab.kernel.invokeFunction('convertToInteractive',\n",
              "                                                     [key], {});\n",
              "          if (!dataTable) return;\n",
              "\n",
              "          const docLinkHtml = 'Like what you see? Visit the ' +\n",
              "            '<a target=\"_blank\" href=https://colab.research.google.com/notebooks/data_table.ipynb>data table notebook</a>'\n",
              "            + ' to learn more about interactive tables.';\n",
              "          element.innerHTML = '';\n",
              "          dataTable['output_type'] = 'display_data';\n",
              "          await google.colab.output.renderOutput(dataTable, element);\n",
              "          const docLink = document.createElement('div');\n",
              "          docLink.innerHTML = docLinkHtml;\n",
              "          element.appendChild(docLink);\n",
              "        }\n",
              "      </script>\n",
              "    </div>\n",
              "  </div>\n",
              "  "
            ]
          },
          "metadata": {},
          "execution_count": 46
        }
      ]
    },
    {
      "cell_type": "code",
      "source": [
        "y = df['Customer Status'].values"
      ],
      "metadata": {
        "id": "O9R12c_gurdB",
        "execution": {
          "iopub.status.busy": "2022-08-11T02:51:11.080404Z",
          "iopub.execute_input": "2022-08-11T02:51:11.080997Z",
          "iopub.status.idle": "2022-08-11T02:51:11.089647Z",
          "shell.execute_reply.started": "2022-08-11T02:51:11.080963Z",
          "shell.execute_reply": "2022-08-11T02:51:11.088805Z"
        },
        "trusted": true
      },
      "execution_count": null,
      "outputs": []
    },
    {
      "cell_type": "code",
      "source": [
        "y"
      ],
      "metadata": {
        "id": "24hmwAZHu2zo",
        "outputId": "d8a0c632-3272-4f86-e1f7-9432b7e32bc2",
        "execution": {
          "iopub.status.busy": "2022-08-11T02:51:11.090950Z",
          "iopub.execute_input": "2022-08-11T02:51:11.091434Z",
          "iopub.status.idle": "2022-08-11T02:51:11.103162Z",
          "shell.execute_reply.started": "2022-08-11T02:51:11.091403Z",
          "shell.execute_reply": "2022-08-11T02:51:11.102313Z"
        },
        "trusted": true,
        "colab": {
          "base_uri": "https://localhost:8080/"
        }
      },
      "execution_count": null,
      "outputs": [
        {
          "output_type": "execute_result",
          "data": {
            "text/plain": [
              "array([1, 1, 2, ..., 3, 1, 1])"
            ]
          },
          "metadata": {},
          "execution_count": 48
        }
      ]
    },
    {
      "cell_type": "markdown",
      "source": [
        "Data Transformation"
      ],
      "metadata": {
        "id": "I8mUCMztu9ab"
      }
    },
    {
      "cell_type": "code",
      "source": [
        "from sklearn.preprocessing import MinMaxScaler"
      ],
      "metadata": {
        "id": "kMCgADP1u3e4",
        "execution": {
          "iopub.status.busy": "2022-08-11T02:51:11.104745Z",
          "iopub.execute_input": "2022-08-11T02:51:11.105253Z",
          "iopub.status.idle": "2022-08-11T02:51:11.116102Z",
          "shell.execute_reply.started": "2022-08-11T02:51:11.105222Z",
          "shell.execute_reply": "2022-08-11T02:51:11.114937Z"
        },
        "trusted": true
      },
      "execution_count": null,
      "outputs": []
    },
    {
      "cell_type": "code",
      "source": [
        "scaler = MinMaxScaler()"
      ],
      "metadata": {
        "id": "xp11z13ovJLC",
        "execution": {
          "iopub.status.busy": "2022-08-11T02:51:11.117391Z",
          "iopub.execute_input": "2022-08-11T02:51:11.117891Z",
          "iopub.status.idle": "2022-08-11T02:51:11.128002Z",
          "shell.execute_reply.started": "2022-08-11T02:51:11.117860Z",
          "shell.execute_reply": "2022-08-11T02:51:11.126705Z"
        },
        "trusted": true
      },
      "execution_count": null,
      "outputs": []
    },
    {
      "cell_type": "code",
      "source": [
        "scaler.fit_transform(x)"
      ],
      "metadata": {
        "id": "f8JVdoOQvNsj",
        "outputId": "728b1047-93fe-4f53-d63e-e7eb87da5de9",
        "execution": {
          "iopub.status.busy": "2022-08-11T02:51:11.129709Z",
          "iopub.execute_input": "2022-08-11T02:51:11.130253Z",
          "iopub.status.idle": "2022-08-11T02:51:11.150210Z",
          "shell.execute_reply.started": "2022-08-11T02:51:11.130221Z",
          "shell.execute_reply": "2022-08-11T02:51:11.149283Z"
        },
        "trusted": true,
        "colab": {
          "base_uri": "https://localhost:8080/"
        }
      },
      "execution_count": null,
      "outputs": [
        {
          "output_type": "execute_result",
          "data": {
            "text/plain": [
              "array([[1.        , 0.29508197, 1.        , ..., 0.07973337, 0.30898876,\n",
              "        0.33992284],\n",
              "       [0.        , 0.44262295, 0.        , ..., 0.04924912, 0.30898876,\n",
              "        0.33992284],\n",
              "       [0.        , 0.50819672, 0.        , ..., 0.03295624, 0.        ,\n",
              "        0.        ],\n",
              "       ...,\n",
              "       [0.        , 0.04918033, 0.        , ..., 0.00908431, 0.30898876,\n",
              "        0.33992284],\n",
              "       [0.        , 0.03278689, 1.        , ..., 0.39708462, 0.30898876,\n",
              "        0.33992284],\n",
              "       [0.        , 0.27868852, 1.        , ..., 0.30826611, 0.30898876,\n",
              "        0.33992284]])"
            ]
          },
          "metadata": {},
          "execution_count": 51
        }
      ]
    },
    {
      "cell_type": "code",
      "source": [
        "X = scaler.fit_transform(x)"
      ],
      "metadata": {
        "id": "viPPQaCWvS4e",
        "execution": {
          "iopub.status.busy": "2022-08-11T02:51:11.151261Z",
          "iopub.execute_input": "2022-08-11T02:51:11.152135Z",
          "iopub.status.idle": "2022-08-11T02:51:11.167242Z",
          "shell.execute_reply.started": "2022-08-11T02:51:11.152103Z",
          "shell.execute_reply": "2022-08-11T02:51:11.165906Z"
        },
        "trusted": true
      },
      "execution_count": null,
      "outputs": []
    },
    {
      "cell_type": "markdown",
      "source": [
        "Splitting the data"
      ],
      "metadata": {
        "id": "X4IYBw5xv4-T"
      }
    },
    {
      "cell_type": "code",
      "source": [
        "from sklearn.model_selection import train_test_split"
      ],
      "metadata": {
        "id": "Wig5HJUrv-Qu",
        "execution": {
          "iopub.status.busy": "2022-08-11T02:51:11.168691Z",
          "iopub.execute_input": "2022-08-11T02:51:11.169773Z",
          "iopub.status.idle": "2022-08-11T02:51:11.247184Z",
          "shell.execute_reply.started": "2022-08-11T02:51:11.169702Z",
          "shell.execute_reply": "2022-08-11T02:51:11.246162Z"
        },
        "trusted": true
      },
      "execution_count": null,
      "outputs": []
    },
    {
      "cell_type": "code",
      "source": [
        "x_train, x_test, y_train, y_test = train_test_split(X,y, test_size = 0.3, random_state = 42)"
      ],
      "metadata": {
        "id": "hByV_dgJwDBZ",
        "execution": {
          "iopub.status.busy": "2022-08-11T02:51:11.248285Z",
          "iopub.execute_input": "2022-08-11T02:51:11.249029Z",
          "iopub.status.idle": "2022-08-11T02:51:11.256638Z",
          "shell.execute_reply.started": "2022-08-11T02:51:11.248996Z",
          "shell.execute_reply": "2022-08-11T02:51:11.255298Z"
        },
        "trusted": true
      },
      "execution_count": null,
      "outputs": []
    },
    {
      "cell_type": "markdown",
      "source": [
        "Model Building"
      ],
      "metadata": {
        "id": "XsuSXFpqvf-M"
      }
    },
    {
      "cell_type": "code",
      "source": [
        "from sklearn.svm import SVC\n",
        "svc = SVC()"
      ],
      "metadata": {
        "id": "AhTHVZdhvWD-",
        "execution": {
          "iopub.status.busy": "2022-08-11T02:51:11.258406Z",
          "iopub.execute_input": "2022-08-11T02:51:11.258877Z",
          "iopub.status.idle": "2022-08-11T02:51:11.356035Z",
          "shell.execute_reply.started": "2022-08-11T02:51:11.258844Z",
          "shell.execute_reply": "2022-08-11T02:51:11.354967Z"
        },
        "trusted": true
      },
      "execution_count": null,
      "outputs": []
    },
    {
      "cell_type": "code",
      "source": [
        "svc.fit(x_train,y_train)"
      ],
      "metadata": {
        "id": "40-iXqE7v3t5",
        "outputId": "0181a64d-1835-4f1a-9211-fc128259cee0",
        "execution": {
          "iopub.status.busy": "2022-08-11T02:51:11.357383Z",
          "iopub.execute_input": "2022-08-11T02:51:11.358277Z",
          "iopub.status.idle": "2022-08-11T02:51:12.284646Z",
          "shell.execute_reply.started": "2022-08-11T02:51:11.358240Z",
          "shell.execute_reply": "2022-08-11T02:51:12.283492Z"
        },
        "trusted": true,
        "colab": {
          "base_uri": "https://localhost:8080/"
        }
      },
      "execution_count": null,
      "outputs": [
        {
          "output_type": "execute_result",
          "data": {
            "text/plain": [
              "SVC()"
            ]
          },
          "metadata": {},
          "execution_count": 56
        }
      ]
    },
    {
      "cell_type": "code",
      "source": [
        "y_pred = svc.predict(x_test)"
      ],
      "metadata": {
        "id": "1nET7WBMwVKi",
        "execution": {
          "iopub.status.busy": "2022-08-11T02:51:12.286356Z",
          "iopub.execute_input": "2022-08-11T02:51:12.286704Z",
          "iopub.status.idle": "2022-08-11T02:51:12.690264Z",
          "shell.execute_reply.started": "2022-08-11T02:51:12.286673Z",
          "shell.execute_reply": "2022-08-11T02:51:12.689035Z"
        },
        "trusted": true
      },
      "execution_count": null,
      "outputs": []
    },
    {
      "cell_type": "code",
      "source": [
        "from sklearn.metrics import accuracy_score"
      ],
      "metadata": {
        "id": "9QJWs1BHwbQ6",
        "execution": {
          "iopub.status.busy": "2022-08-11T02:51:12.691769Z",
          "iopub.execute_input": "2022-08-11T02:51:12.692139Z",
          "iopub.status.idle": "2022-08-11T02:51:12.697423Z",
          "shell.execute_reply.started": "2022-08-11T02:51:12.692107Z",
          "shell.execute_reply": "2022-08-11T02:51:12.696323Z"
        },
        "trusted": true
      },
      "execution_count": null,
      "outputs": []
    },
    {
      "cell_type": "code",
      "source": [
        "print(accuracy_score(y_test, y_pred)*100)"
      ],
      "metadata": {
        "id": "I-moQtbwwlpk",
        "outputId": "f9df5cdc-23d5-4308-a337-14e7946d25c7",
        "execution": {
          "iopub.status.busy": "2022-08-11T02:51:12.698604Z",
          "iopub.execute_input": "2022-08-11T02:51:12.699543Z",
          "iopub.status.idle": "2022-08-11T02:51:12.714183Z",
          "shell.execute_reply.started": "2022-08-11T02:51:12.699507Z",
          "shell.execute_reply": "2022-08-11T02:51:12.712981Z"
        },
        "trusted": true,
        "colab": {
          "base_uri": "https://localhost:8080/"
        }
      },
      "execution_count": null,
      "outputs": [
        {
          "output_type": "stream",
          "name": "stdout",
          "text": [
            "83.00993847610033\n"
          ]
        }
      ]
    },
    {
      "cell_type": "markdown",
      "source": [
        "Applying Decision Tree, Random Forest"
      ],
      "metadata": {
        "id": "bc5AHTQ0wx1c"
      }
    },
    {
      "cell_type": "code",
      "source": [
        "from sklearn.ensemble import RandomForestClassifier"
      ],
      "metadata": {
        "id": "7QgBfimbxZ19",
        "execution": {
          "iopub.status.busy": "2022-08-11T02:51:12.715850Z",
          "iopub.execute_input": "2022-08-11T02:51:12.716198Z",
          "iopub.status.idle": "2022-08-11T02:51:12.885977Z",
          "shell.execute_reply.started": "2022-08-11T02:51:12.716168Z",
          "shell.execute_reply": "2022-08-11T02:51:12.884617Z"
        },
        "trusted": true
      },
      "execution_count": null,
      "outputs": []
    },
    {
      "cell_type": "code",
      "source": [
        "rmf = RandomForestClassifier()"
      ],
      "metadata": {
        "id": "SSzHCXcIxudx",
        "execution": {
          "iopub.status.busy": "2022-08-11T02:51:12.887689Z",
          "iopub.execute_input": "2022-08-11T02:51:12.888329Z",
          "iopub.status.idle": "2022-08-11T02:51:12.893920Z",
          "shell.execute_reply.started": "2022-08-11T02:51:12.888285Z",
          "shell.execute_reply": "2022-08-11T02:51:12.892588Z"
        },
        "trusted": true
      },
      "execution_count": null,
      "outputs": []
    },
    {
      "cell_type": "code",
      "source": [
        "rmf.fit(x_train, y_train)"
      ],
      "metadata": {
        "id": "wFwFovBZxxP6",
        "outputId": "e7475df9-cd98-44a9-f128-4911590bd88e",
        "execution": {
          "iopub.status.busy": "2022-08-11T02:51:12.895117Z",
          "iopub.execute_input": "2022-08-11T02:51:12.895602Z",
          "iopub.status.idle": "2022-08-11T02:51:13.604927Z",
          "shell.execute_reply.started": "2022-08-11T02:51:12.895572Z",
          "shell.execute_reply": "2022-08-11T02:51:13.603772Z"
        },
        "trusted": true,
        "colab": {
          "base_uri": "https://localhost:8080/"
        }
      },
      "execution_count": null,
      "outputs": [
        {
          "output_type": "execute_result",
          "data": {
            "text/plain": [
              "RandomForestClassifier()"
            ]
          },
          "metadata": {},
          "execution_count": 62
        }
      ]
    },
    {
      "cell_type": "code",
      "source": [
        "y_prediction = rmf.predict(x_test)"
      ],
      "metadata": {
        "id": "hRed8MoNx1af",
        "execution": {
          "iopub.status.busy": "2022-08-11T02:51:13.606624Z",
          "iopub.execute_input": "2022-08-11T02:51:13.606996Z",
          "iopub.status.idle": "2022-08-11T02:51:13.654799Z",
          "shell.execute_reply.started": "2022-08-11T02:51:13.606965Z",
          "shell.execute_reply": "2022-08-11T02:51:13.653506Z"
        },
        "trusted": true
      },
      "execution_count": null,
      "outputs": []
    },
    {
      "cell_type": "code",
      "source": [
        "print(accuracy_score(y_test, y_prediction)*100)"
      ],
      "metadata": {
        "id": "vNAcLYOHx_5a",
        "outputId": "b63c629a-6773-4836-d562-e745e524e04b",
        "execution": {
          "iopub.status.busy": "2022-08-11T02:51:13.656759Z",
          "iopub.execute_input": "2022-08-11T02:51:13.657214Z",
          "iopub.status.idle": "2022-08-11T02:51:13.664516Z",
          "shell.execute_reply.started": "2022-08-11T02:51:13.657173Z",
          "shell.execute_reply": "2022-08-11T02:51:13.663156Z"
        },
        "trusted": true,
        "colab": {
          "base_uri": "https://localhost:8080/"
        }
      },
      "execution_count": null,
      "outputs": [
        {
          "output_type": "stream",
          "name": "stdout",
          "text": [
            "100.0\n"
          ]
        }
      ]
    },
    {
      "cell_type": "markdown",
      "source": [
        "Decision Tree Algorithm"
      ],
      "metadata": {
        "id": "8WK9GufnyJLh"
      }
    },
    {
      "cell_type": "code",
      "source": [
        "from sklearn.tree import DecisionTreeClassifier"
      ],
      "metadata": {
        "id": "kAe4gIcbyGRB",
        "execution": {
          "iopub.status.busy": "2022-08-11T02:51:13.666203Z",
          "iopub.execute_input": "2022-08-11T02:51:13.667172Z",
          "iopub.status.idle": "2022-08-11T02:51:13.673347Z",
          "shell.execute_reply.started": "2022-08-11T02:51:13.667138Z",
          "shell.execute_reply": "2022-08-11T02:51:13.672438Z"
        },
        "trusted": true
      },
      "execution_count": null,
      "outputs": []
    },
    {
      "cell_type": "code",
      "source": [
        "DT = DecisionTreeClassifier()"
      ],
      "metadata": {
        "id": "lS-E-c4FyXSl",
        "execution": {
          "iopub.status.busy": "2022-08-11T02:51:13.674361Z",
          "iopub.execute_input": "2022-08-11T02:51:13.675164Z",
          "iopub.status.idle": "2022-08-11T02:51:13.686513Z",
          "shell.execute_reply.started": "2022-08-11T02:51:13.675131Z",
          "shell.execute_reply": "2022-08-11T02:51:13.685166Z"
        },
        "trusted": true
      },
      "execution_count": null,
      "outputs": []
    },
    {
      "cell_type": "code",
      "source": [
        "DT.fit(x_train, y_train)"
      ],
      "metadata": {
        "id": "9skNfhrhyZ_M",
        "outputId": "3f25d184-ca73-4407-d542-d89ea6e7f184",
        "execution": {
          "iopub.status.busy": "2022-08-11T02:51:13.688467Z",
          "iopub.execute_input": "2022-08-11T02:51:13.689297Z",
          "iopub.status.idle": "2022-08-11T02:51:13.722167Z",
          "shell.execute_reply.started": "2022-08-11T02:51:13.689237Z",
          "shell.execute_reply": "2022-08-11T02:51:13.720875Z"
        },
        "trusted": true,
        "colab": {
          "base_uri": "https://localhost:8080/"
        }
      },
      "execution_count": null,
      "outputs": [
        {
          "output_type": "execute_result",
          "data": {
            "text/plain": [
              "DecisionTreeClassifier()"
            ]
          },
          "metadata": {},
          "execution_count": 67
        }
      ]
    },
    {
      "cell_type": "code",
      "source": [
        "y_predd = DT.predict(x_test)"
      ],
      "metadata": {
        "id": "vU4JsP72yeAD",
        "execution": {
          "iopub.status.busy": "2022-08-11T02:51:13.723891Z",
          "iopub.execute_input": "2022-08-11T02:51:13.724324Z",
          "iopub.status.idle": "2022-08-11T02:51:13.729682Z",
          "shell.execute_reply.started": "2022-08-11T02:51:13.724291Z",
          "shell.execute_reply": "2022-08-11T02:51:13.728803Z"
        },
        "trusted": true
      },
      "execution_count": null,
      "outputs": []
    },
    {
      "cell_type": "code",
      "source": [
        "print(accuracy_score(y_test, y_predd)*100)"
      ],
      "metadata": {
        "id": "NRZdu-bGytS7",
        "outputId": "dd50692e-a208-41d2-af47-ee18aec0a4a0",
        "execution": {
          "iopub.status.busy": "2022-08-11T02:51:13.731190Z",
          "iopub.execute_input": "2022-08-11T02:51:13.731806Z",
          "iopub.status.idle": "2022-08-11T02:51:13.743574Z",
          "shell.execute_reply.started": "2022-08-11T02:51:13.731772Z",
          "shell.execute_reply": "2022-08-11T02:51:13.742638Z"
        },
        "trusted": true,
        "colab": {
          "base_uri": "https://localhost:8080/"
        }
      },
      "execution_count": null,
      "outputs": [
        {
          "output_type": "stream",
          "name": "stdout",
          "text": [
            "100.0\n"
          ]
        }
      ]
    },
    {
      "cell_type": "markdown",
      "source": [
        "KNeighborsClassifier"
      ],
      "metadata": {
        "id": "g9lB31RCy2x5"
      }
    },
    {
      "cell_type": "code",
      "source": [
        "from sklearn.neighbors import KNeighborsClassifier"
      ],
      "metadata": {
        "id": "2e0g6zBOy0Wi",
        "execution": {
          "iopub.status.busy": "2022-08-11T02:51:13.745178Z",
          "iopub.execute_input": "2022-08-11T02:51:13.745593Z",
          "iopub.status.idle": "2022-08-11T02:51:13.753703Z",
          "shell.execute_reply.started": "2022-08-11T02:51:13.745559Z",
          "shell.execute_reply": "2022-08-11T02:51:13.752508Z"
        },
        "trusted": true
      },
      "execution_count": null,
      "outputs": []
    },
    {
      "cell_type": "code",
      "source": [
        "KNC = KNeighborsClassifier()"
      ],
      "metadata": {
        "id": "F5KFSv0Hy_uH",
        "execution": {
          "iopub.status.busy": "2022-08-11T02:51:13.764183Z",
          "iopub.execute_input": "2022-08-11T02:51:13.764547Z",
          "iopub.status.idle": "2022-08-11T02:51:13.769660Z",
          "shell.execute_reply.started": "2022-08-11T02:51:13.764518Z",
          "shell.execute_reply": "2022-08-11T02:51:13.768596Z"
        },
        "trusted": true
      },
      "execution_count": null,
      "outputs": []
    },
    {
      "cell_type": "code",
      "source": [
        "KNC.fit(x_train, y_train)"
      ],
      "metadata": {
        "id": "sWpOTBH6zDGe",
        "outputId": "c25b2d01-3eb3-4ed8-b392-96fceec4fe84",
        "execution": {
          "iopub.status.busy": "2022-08-11T02:51:13.771125Z",
          "iopub.execute_input": "2022-08-11T02:51:13.772175Z",
          "iopub.status.idle": "2022-08-11T02:51:13.783762Z",
          "shell.execute_reply.started": "2022-08-11T02:51:13.772129Z",
          "shell.execute_reply": "2022-08-11T02:51:13.782796Z"
        },
        "trusted": true,
        "colab": {
          "base_uri": "https://localhost:8080/"
        }
      },
      "execution_count": null,
      "outputs": [
        {
          "output_type": "execute_result",
          "data": {
            "text/plain": [
              "KNeighborsClassifier()"
            ]
          },
          "metadata": {},
          "execution_count": 72
        }
      ]
    },
    {
      "cell_type": "code",
      "source": [
        "y_pre = KNC.predict(x_test)"
      ],
      "metadata": {
        "id": "U046ic4gzGHh",
        "execution": {
          "iopub.status.busy": "2022-08-11T02:51:13.785540Z",
          "iopub.execute_input": "2022-08-11T02:51:13.785940Z",
          "iopub.status.idle": "2022-08-11T02:51:14.137670Z",
          "shell.execute_reply.started": "2022-08-11T02:51:13.785907Z",
          "shell.execute_reply": "2022-08-11T02:51:14.136151Z"
        },
        "trusted": true
      },
      "execution_count": null,
      "outputs": []
    },
    {
      "cell_type": "code",
      "source": [
        "print(accuracy_score(y_test,y_pre)*100)"
      ],
      "metadata": {
        "id": "RP7aG2FuzPIR",
        "outputId": "f0fd5ce2-8461-4989-952a-e1d8cfbde521",
        "execution": {
          "iopub.status.busy": "2022-08-11T02:51:14.139388Z",
          "iopub.execute_input": "2022-08-11T02:51:14.139758Z",
          "iopub.status.idle": "2022-08-11T02:51:14.146242Z",
          "shell.execute_reply.started": "2022-08-11T02:51:14.139712Z",
          "shell.execute_reply": "2022-08-11T02:51:14.144859Z"
        },
        "trusted": true,
        "colab": {
          "base_uri": "https://localhost:8080/"
        }
      },
      "execution_count": null,
      "outputs": [
        {
          "output_type": "stream",
          "name": "stdout",
          "text": [
            "73.68670137245623\n"
          ]
        }
      ]
    }
  ]
}